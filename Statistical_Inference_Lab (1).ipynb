{
  "cells": [
    {
      "cell_type": "markdown",
      "metadata": {
        "id": "JrL3aG-SmyNf"
      },
      "source": [
        "# Statistical Inference.\n",
        "\n",
        "In this notebook we will see how to infer predictions about a population. To\n",
        "this end we will explore the relationship between sample parameters and population parameters and we will propose some methods to assess the quality\n",
        "of parameter estimates of a sample.\n",
        "\n",
        "## Data description\n",
        "\n",
        "Let's consider a dataset of accidents in Barcelona in 2013. This dataset can\n",
        "be downloaded from OpenDataBCN website (http://opendata.bcn.cat/),\n",
        "Barcelona's City Hall open data service. Each register in the dataset represents an accident by a series of features: weekday, hour, address, number\n",
        "of dead and injured people, etc. This dataset will represent our population:\n",
        "the set of all reported traffic accidents in Barcelona during 2013.\n",
        "\n",
        "In https://dieguico.cartodb.com/viz/50b06d8c-13ab-11e5-8619-0e4fddd5de28/public_map you can visualize a map of accidents in the city of Barcelona by hour of day, and by day of week."
      ]
    },
    {
      "cell_type": "code",
      "execution_count": 1,
      "metadata": {
        "id": "nL5OIGIVmyNm"
      },
      "outputs": [],
      "source": [
        "import matplotlib.pylab as plt\n",
        "from matplotlib import cm\n",
        "import math\n",
        "import pandas as pd\n",
        "import numpy as np\n",
        "import random\n",
        "\n",
        "%matplotlib inline\n",
        "plt.style.use('seaborn-v0_8-whitegrid')\n",
        "plt.rc('text', usetex=True)\n",
        "plt.rc('font', family='times')\n",
        "plt.rc('xtick', labelsize=10)\n",
        "plt.rc('ytick', labelsize=10)\n",
        "plt.rc('font', size=12)\n",
        "\n",
        "pd.set_option('display.max_columns', None)"
      ]
    },
    {
      "cell_type": "code",
      "execution_count": 2,
      "metadata": {
        "colab": {
          "base_uri": "https://localhost:8080/"
        },
        "id": "dIdKyysrmyNp",
        "outputId": "5c056df5-d7ee-4812-f5de-ee2894327176"
      },
      "outputs": [
        {
          "output_type": "stream",
          "name": "stdout",
          "text": [
            "Index(['File/Record Number', 'District Code', 'District Name',\n",
            "       ' Neighborhood Code', ' Neighborhood Name', 'Street Code',\n",
            "       'Street Name', 'Postal Number Label', 'Day of the Week Description',\n",
            "       ' Day of the Week', 'Type of Day Description', ' Year Code',\n",
            "       'Month of the Year', 'Month Name', 'Day of the Month', 'Time of Day',\n",
            "       'Shift/Time Period Description', ' Pedestrian Cause Description',\n",
            "       ' Number of Deaths', 'Number of Minor Injuries',\n",
            "       'Number of Serious Injuries', 'Total Number of Victims',\n",
            "       'Number of Vehicles Involved', 'UTM Coordinate (Y)',\n",
            "       'UTM Coordinate (X)'],\n",
            "      dtype='object')\n"
          ]
        }
      ],
      "source": [
        "data = pd.read_csv(\"ACCIDENTS_GU_BCN_2013.csv\", encoding='latin-1')\n",
        "print(data.columns)"
      ]
    },
    {
      "cell_type": "code",
      "execution_count": 3,
      "metadata": {
        "colab": {
          "base_uri": "https://localhost:8080/",
          "height": 669
        },
        "id": "8FMp8JmtmyNt",
        "outputId": "3abc2028-77e8-4d53-fd74-6dc8a448a74f"
      },
      "outputs": [
        {
          "output_type": "execute_result",
          "data": {
            "text/plain": [
              "     File/Record Number  District Code District Name  Neighborhood Code  \\\n",
              "0           2013S007360             -1    Desconegut                  1   \n",
              "1           2013S007723             10    Sant Martí          101-10-64   \n",
              "2           2013S005373             10    Sant Martí          101-10-64   \n",
              "3           2013S001486             10    Sant Martí          101-10-64   \n",
              "4           2013S008254             10    Sant Martí          101-10-64   \n",
              "...                 ...            ...           ...                ...   \n",
              "9452        2013S008023              9   Sant Andreu            93-9-59   \n",
              "9453        2013S006294              9   Sant Andreu            93-9-59   \n",
              "9454        2013S005884              9   Sant Andreu            93-9-59   \n",
              "9455        2013S001311              9   Sant Andreu            93-9-59   \n",
              "9456        2013S006739              9   Sant Andreu            93-9-59   \n",
              "\n",
              "               Neighborhood Name  Street Code          Street Name  \\\n",
              "0                     Desconegut           -1           Desconegut   \n",
              "1     el Camp de l'Arpa del Clot       152600             Guinardó   \n",
              "2     el Camp de l'Arpa del Clot       134801               Freser   \n",
              "3     el Camp de l'Arpa del Clot       161407            Indústria   \n",
              "4     el Camp de l'Arpa del Clot       161101        Independència   \n",
              "...                          ...          ...                  ...   \n",
              "9452               el Bon Pastor       701265      Litoral (Besòs)   \n",
              "9453               el Bon Pastor       701265      Litoral (Besòs)   \n",
              "9454               el Bon Pastor       701266  Litoral (Llobregat)   \n",
              "9455               el Bon Pastor        63850              Caracas   \n",
              "9456               el Bon Pastor       123306         Ferran Junoy   \n",
              "\n",
              "     Postal Number Label Day of the Week Description   Day of the Week  \\\n",
              "0             Desconegut                    Dimecres                 3   \n",
              "1              0028 0032                     Dimarts                 2   \n",
              "2              0053 0053                     Dimarts                 2   \n",
              "3              0224 0224                     Dimarts                 2   \n",
              "4              0357 0357                     Dilluns                 1   \n",
              "...                  ...                         ...               ...   \n",
              "9452              120000                    Diumenge                 7   \n",
              "9453              140000                      Dijous                 4   \n",
              "9454              110000                    Dimecres                 3   \n",
              "9455          0050B0050B                    Dimecres                 3   \n",
              "9456           0054 0054                     Dilluns                 1   \n",
              "\n",
              "     Type of Day Description   Year Code  Month of the Year Month Name  \\\n",
              "0                    Laboral        2013                 10    Octubre   \n",
              "1                    Laboral        2013                 10    Octubre   \n",
              "2                    Laboral        2013                  7     Juliol   \n",
              "3                    Laboral        2013                  2     Febrer   \n",
              "4                    Laboral        2013                 11   Novembre   \n",
              "...                      ...         ...                ...        ...   \n",
              "9452                 Laboral        2013                 11   Novembre   \n",
              "9453                 Laboral        2013                  9   Setembre   \n",
              "9454                 Laboral        2013                  8      Agost   \n",
              "9455                 Laboral        2013                  2     Febrer   \n",
              "9456                 Laboral        2013                  9   Setembre   \n",
              "\n",
              "      Day of the Month  Time of Day Shift/Time Period Description  \\\n",
              "0                   16           21                         Tarda   \n",
              "1                   29           21                         Tarda   \n",
              "2                   23           10                          Matí   \n",
              "3                   26           10                          Matí   \n",
              "4                   18           16                         Tarda   \n",
              "...                ...          ...                           ...   \n",
              "9452                10           18                         Tarda   \n",
              "9453                 5           17                         Tarda   \n",
              "9454                14           10                          Matí   \n",
              "9455                20           17                         Tarda   \n",
              "9456                23           10                          Matí   \n",
              "\n",
              "         Pedestrian Cause Description   Number of Deaths  \\\n",
              "0                          Desconegut                  0   \n",
              "1                          Desconegut                  0   \n",
              "2     Creuar per fora pas de vianants                  0   \n",
              "3                              Altres                  0   \n",
              "4                          Desconegut                  0   \n",
              "...                               ...                ...   \n",
              "9452                       Desconegut                  0   \n",
              "9453                       Desconegut                  0   \n",
              "9454                       Desconegut                  0   \n",
              "9455                       Desconegut                  0   \n",
              "9456                       Desconegut                  0   \n",
              "\n",
              "      Number of Minor Injuries  Number of Serious Injuries  \\\n",
              "0                            1                           0   \n",
              "1                            1                           0   \n",
              "2                            1                           0   \n",
              "3                            1                           0   \n",
              "4                            1                           0   \n",
              "...                        ...                         ...   \n",
              "9452                         1                           0   \n",
              "9453                         2                           0   \n",
              "9454                         9                           0   \n",
              "9455                         1                           0   \n",
              "9456                         2                           0   \n",
              "\n",
              "      Total Number of Victims  Number of Vehicles Involved UTM Coordinate (Y)  \\\n",
              "0                           1                            2                 -1   \n",
              "1                           1                            2         4585218,67   \n",
              "2                           1                            1         4585049,89   \n",
              "3                           1                            1         4584836,20   \n",
              "4                           1                            2         4584704,26   \n",
              "...                       ...                          ...                ...   \n",
              "9452                        1                            1         4588266,09   \n",
              "9453                        2                            3         4588083,71   \n",
              "9454                        9                            2         4588339,80   \n",
              "9455                        1                            2         4588592,95   \n",
              "9456                        2                            2         4588179,93   \n",
              "\n",
              "     UTM Coordinate (X)  \n",
              "0                    -1  \n",
              "1             431621,41  \n",
              "2             431605,09  \n",
              "3             431302,26  \n",
              "4             431385,76  \n",
              "...                 ...  \n",
              "9452          433713,00  \n",
              "9453          433798,37  \n",
              "9454          433640,52  \n",
              "9455          433353,63  \n",
              "9456          432914,61  \n",
              "\n",
              "[9457 rows x 25 columns]"
            ],
            "text/html": [
              "\n",
              "  <div id=\"df-fbd41625-b2f5-4745-b254-7661a66c0dcf\" class=\"colab-df-container\">\n",
              "    <div>\n",
              "<style scoped>\n",
              "    .dataframe tbody tr th:only-of-type {\n",
              "        vertical-align: middle;\n",
              "    }\n",
              "\n",
              "    .dataframe tbody tr th {\n",
              "        vertical-align: top;\n",
              "    }\n",
              "\n",
              "    .dataframe thead th {\n",
              "        text-align: right;\n",
              "    }\n",
              "</style>\n",
              "<table border=\"1\" class=\"dataframe\">\n",
              "  <thead>\n",
              "    <tr style=\"text-align: right;\">\n",
              "      <th></th>\n",
              "      <th>File/Record Number</th>\n",
              "      <th>District Code</th>\n",
              "      <th>District Name</th>\n",
              "      <th>Neighborhood Code</th>\n",
              "      <th>Neighborhood Name</th>\n",
              "      <th>Street Code</th>\n",
              "      <th>Street Name</th>\n",
              "      <th>Postal Number Label</th>\n",
              "      <th>Day of the Week Description</th>\n",
              "      <th>Day of the Week</th>\n",
              "      <th>Type of Day Description</th>\n",
              "      <th>Year Code</th>\n",
              "      <th>Month of the Year</th>\n",
              "      <th>Month Name</th>\n",
              "      <th>Day of the Month</th>\n",
              "      <th>Time of Day</th>\n",
              "      <th>Shift/Time Period Description</th>\n",
              "      <th>Pedestrian Cause Description</th>\n",
              "      <th>Number of Deaths</th>\n",
              "      <th>Number of Minor Injuries</th>\n",
              "      <th>Number of Serious Injuries</th>\n",
              "      <th>Total Number of Victims</th>\n",
              "      <th>Number of Vehicles Involved</th>\n",
              "      <th>UTM Coordinate (Y)</th>\n",
              "      <th>UTM Coordinate (X)</th>\n",
              "    </tr>\n",
              "  </thead>\n",
              "  <tbody>\n",
              "    <tr>\n",
              "      <th>0</th>\n",
              "      <td>2013S007360</td>\n",
              "      <td>-1</td>\n",
              "      <td>Desconegut</td>\n",
              "      <td>1</td>\n",
              "      <td>Desconegut</td>\n",
              "      <td>-1</td>\n",
              "      <td>Desconegut</td>\n",
              "      <td>Desconegut</td>\n",
              "      <td>Dimecres</td>\n",
              "      <td>3</td>\n",
              "      <td>Laboral</td>\n",
              "      <td>2013</td>\n",
              "      <td>10</td>\n",
              "      <td>Octubre</td>\n",
              "      <td>16</td>\n",
              "      <td>21</td>\n",
              "      <td>Tarda</td>\n",
              "      <td>Desconegut</td>\n",
              "      <td>0</td>\n",
              "      <td>1</td>\n",
              "      <td>0</td>\n",
              "      <td>1</td>\n",
              "      <td>2</td>\n",
              "      <td>-1</td>\n",
              "      <td>-1</td>\n",
              "    </tr>\n",
              "    <tr>\n",
              "      <th>1</th>\n",
              "      <td>2013S007723</td>\n",
              "      <td>10</td>\n",
              "      <td>Sant Martí</td>\n",
              "      <td>101-10-64</td>\n",
              "      <td>el Camp de l'Arpa del Clot</td>\n",
              "      <td>152600</td>\n",
              "      <td>Guinardó</td>\n",
              "      <td>0028 0032</td>\n",
              "      <td>Dimarts</td>\n",
              "      <td>2</td>\n",
              "      <td>Laboral</td>\n",
              "      <td>2013</td>\n",
              "      <td>10</td>\n",
              "      <td>Octubre</td>\n",
              "      <td>29</td>\n",
              "      <td>21</td>\n",
              "      <td>Tarda</td>\n",
              "      <td>Desconegut</td>\n",
              "      <td>0</td>\n",
              "      <td>1</td>\n",
              "      <td>0</td>\n",
              "      <td>1</td>\n",
              "      <td>2</td>\n",
              "      <td>4585218,67</td>\n",
              "      <td>431621,41</td>\n",
              "    </tr>\n",
              "    <tr>\n",
              "      <th>2</th>\n",
              "      <td>2013S005373</td>\n",
              "      <td>10</td>\n",
              "      <td>Sant Martí</td>\n",
              "      <td>101-10-64</td>\n",
              "      <td>el Camp de l'Arpa del Clot</td>\n",
              "      <td>134801</td>\n",
              "      <td>Freser</td>\n",
              "      <td>0053 0053</td>\n",
              "      <td>Dimarts</td>\n",
              "      <td>2</td>\n",
              "      <td>Laboral</td>\n",
              "      <td>2013</td>\n",
              "      <td>7</td>\n",
              "      <td>Juliol</td>\n",
              "      <td>23</td>\n",
              "      <td>10</td>\n",
              "      <td>Matí</td>\n",
              "      <td>Creuar per fora pas de vianants</td>\n",
              "      <td>0</td>\n",
              "      <td>1</td>\n",
              "      <td>0</td>\n",
              "      <td>1</td>\n",
              "      <td>1</td>\n",
              "      <td>4585049,89</td>\n",
              "      <td>431605,09</td>\n",
              "    </tr>\n",
              "    <tr>\n",
              "      <th>3</th>\n",
              "      <td>2013S001486</td>\n",
              "      <td>10</td>\n",
              "      <td>Sant Martí</td>\n",
              "      <td>101-10-64</td>\n",
              "      <td>el Camp de l'Arpa del Clot</td>\n",
              "      <td>161407</td>\n",
              "      <td>Indústria</td>\n",
              "      <td>0224 0224</td>\n",
              "      <td>Dimarts</td>\n",
              "      <td>2</td>\n",
              "      <td>Laboral</td>\n",
              "      <td>2013</td>\n",
              "      <td>2</td>\n",
              "      <td>Febrer</td>\n",
              "      <td>26</td>\n",
              "      <td>10</td>\n",
              "      <td>Matí</td>\n",
              "      <td>Altres</td>\n",
              "      <td>0</td>\n",
              "      <td>1</td>\n",
              "      <td>0</td>\n",
              "      <td>1</td>\n",
              "      <td>1</td>\n",
              "      <td>4584836,20</td>\n",
              "      <td>431302,26</td>\n",
              "    </tr>\n",
              "    <tr>\n",
              "      <th>4</th>\n",
              "      <td>2013S008254</td>\n",
              "      <td>10</td>\n",
              "      <td>Sant Martí</td>\n",
              "      <td>101-10-64</td>\n",
              "      <td>el Camp de l'Arpa del Clot</td>\n",
              "      <td>161101</td>\n",
              "      <td>Independència</td>\n",
              "      <td>0357 0357</td>\n",
              "      <td>Dilluns</td>\n",
              "      <td>1</td>\n",
              "      <td>Laboral</td>\n",
              "      <td>2013</td>\n",
              "      <td>11</td>\n",
              "      <td>Novembre</td>\n",
              "      <td>18</td>\n",
              "      <td>16</td>\n",
              "      <td>Tarda</td>\n",
              "      <td>Desconegut</td>\n",
              "      <td>0</td>\n",
              "      <td>1</td>\n",
              "      <td>0</td>\n",
              "      <td>1</td>\n",
              "      <td>2</td>\n",
              "      <td>4584704,26</td>\n",
              "      <td>431385,76</td>\n",
              "    </tr>\n",
              "    <tr>\n",
              "      <th>...</th>\n",
              "      <td>...</td>\n",
              "      <td>...</td>\n",
              "      <td>...</td>\n",
              "      <td>...</td>\n",
              "      <td>...</td>\n",
              "      <td>...</td>\n",
              "      <td>...</td>\n",
              "      <td>...</td>\n",
              "      <td>...</td>\n",
              "      <td>...</td>\n",
              "      <td>...</td>\n",
              "      <td>...</td>\n",
              "      <td>...</td>\n",
              "      <td>...</td>\n",
              "      <td>...</td>\n",
              "      <td>...</td>\n",
              "      <td>...</td>\n",
              "      <td>...</td>\n",
              "      <td>...</td>\n",
              "      <td>...</td>\n",
              "      <td>...</td>\n",
              "      <td>...</td>\n",
              "      <td>...</td>\n",
              "      <td>...</td>\n",
              "      <td>...</td>\n",
              "    </tr>\n",
              "    <tr>\n",
              "      <th>9452</th>\n",
              "      <td>2013S008023</td>\n",
              "      <td>9</td>\n",
              "      <td>Sant Andreu</td>\n",
              "      <td>93-9-59</td>\n",
              "      <td>el Bon Pastor</td>\n",
              "      <td>701265</td>\n",
              "      <td>Litoral (Besòs)</td>\n",
              "      <td>120000</td>\n",
              "      <td>Diumenge</td>\n",
              "      <td>7</td>\n",
              "      <td>Laboral</td>\n",
              "      <td>2013</td>\n",
              "      <td>11</td>\n",
              "      <td>Novembre</td>\n",
              "      <td>10</td>\n",
              "      <td>18</td>\n",
              "      <td>Tarda</td>\n",
              "      <td>Desconegut</td>\n",
              "      <td>0</td>\n",
              "      <td>1</td>\n",
              "      <td>0</td>\n",
              "      <td>1</td>\n",
              "      <td>1</td>\n",
              "      <td>4588266,09</td>\n",
              "      <td>433713,00</td>\n",
              "    </tr>\n",
              "    <tr>\n",
              "      <th>9453</th>\n",
              "      <td>2013S006294</td>\n",
              "      <td>9</td>\n",
              "      <td>Sant Andreu</td>\n",
              "      <td>93-9-59</td>\n",
              "      <td>el Bon Pastor</td>\n",
              "      <td>701265</td>\n",
              "      <td>Litoral (Besòs)</td>\n",
              "      <td>140000</td>\n",
              "      <td>Dijous</td>\n",
              "      <td>4</td>\n",
              "      <td>Laboral</td>\n",
              "      <td>2013</td>\n",
              "      <td>9</td>\n",
              "      <td>Setembre</td>\n",
              "      <td>5</td>\n",
              "      <td>17</td>\n",
              "      <td>Tarda</td>\n",
              "      <td>Desconegut</td>\n",
              "      <td>0</td>\n",
              "      <td>2</td>\n",
              "      <td>0</td>\n",
              "      <td>2</td>\n",
              "      <td>3</td>\n",
              "      <td>4588083,71</td>\n",
              "      <td>433798,37</td>\n",
              "    </tr>\n",
              "    <tr>\n",
              "      <th>9454</th>\n",
              "      <td>2013S005884</td>\n",
              "      <td>9</td>\n",
              "      <td>Sant Andreu</td>\n",
              "      <td>93-9-59</td>\n",
              "      <td>el Bon Pastor</td>\n",
              "      <td>701266</td>\n",
              "      <td>Litoral (Llobregat)</td>\n",
              "      <td>110000</td>\n",
              "      <td>Dimecres</td>\n",
              "      <td>3</td>\n",
              "      <td>Laboral</td>\n",
              "      <td>2013</td>\n",
              "      <td>8</td>\n",
              "      <td>Agost</td>\n",
              "      <td>14</td>\n",
              "      <td>10</td>\n",
              "      <td>Matí</td>\n",
              "      <td>Desconegut</td>\n",
              "      <td>0</td>\n",
              "      <td>9</td>\n",
              "      <td>0</td>\n",
              "      <td>9</td>\n",
              "      <td>2</td>\n",
              "      <td>4588339,80</td>\n",
              "      <td>433640,52</td>\n",
              "    </tr>\n",
              "    <tr>\n",
              "      <th>9455</th>\n",
              "      <td>2013S001311</td>\n",
              "      <td>9</td>\n",
              "      <td>Sant Andreu</td>\n",
              "      <td>93-9-59</td>\n",
              "      <td>el Bon Pastor</td>\n",
              "      <td>63850</td>\n",
              "      <td>Caracas</td>\n",
              "      <td>0050B0050B</td>\n",
              "      <td>Dimecres</td>\n",
              "      <td>3</td>\n",
              "      <td>Laboral</td>\n",
              "      <td>2013</td>\n",
              "      <td>2</td>\n",
              "      <td>Febrer</td>\n",
              "      <td>20</td>\n",
              "      <td>17</td>\n",
              "      <td>Tarda</td>\n",
              "      <td>Desconegut</td>\n",
              "      <td>0</td>\n",
              "      <td>1</td>\n",
              "      <td>0</td>\n",
              "      <td>1</td>\n",
              "      <td>2</td>\n",
              "      <td>4588592,95</td>\n",
              "      <td>433353,63</td>\n",
              "    </tr>\n",
              "    <tr>\n",
              "      <th>9456</th>\n",
              "      <td>2013S006739</td>\n",
              "      <td>9</td>\n",
              "      <td>Sant Andreu</td>\n",
              "      <td>93-9-59</td>\n",
              "      <td>el Bon Pastor</td>\n",
              "      <td>123306</td>\n",
              "      <td>Ferran Junoy</td>\n",
              "      <td>0054 0054</td>\n",
              "      <td>Dilluns</td>\n",
              "      <td>1</td>\n",
              "      <td>Laboral</td>\n",
              "      <td>2013</td>\n",
              "      <td>9</td>\n",
              "      <td>Setembre</td>\n",
              "      <td>23</td>\n",
              "      <td>10</td>\n",
              "      <td>Matí</td>\n",
              "      <td>Desconegut</td>\n",
              "      <td>0</td>\n",
              "      <td>2</td>\n",
              "      <td>0</td>\n",
              "      <td>2</td>\n",
              "      <td>2</td>\n",
              "      <td>4588179,93</td>\n",
              "      <td>432914,61</td>\n",
              "    </tr>\n",
              "  </tbody>\n",
              "</table>\n",
              "<p>9457 rows × 25 columns</p>\n",
              "</div>\n",
              "    <div class=\"colab-df-buttons\">\n",
              "\n",
              "  <div class=\"colab-df-container\">\n",
              "    <button class=\"colab-df-convert\" onclick=\"convertToInteractive('df-fbd41625-b2f5-4745-b254-7661a66c0dcf')\"\n",
              "            title=\"Convert this dataframe to an interactive table.\"\n",
              "            style=\"display:none;\">\n",
              "\n",
              "  <svg xmlns=\"http://www.w3.org/2000/svg\" height=\"24px\" viewBox=\"0 -960 960 960\">\n",
              "    <path d=\"M120-120v-720h720v720H120Zm60-500h600v-160H180v160Zm220 220h160v-160H400v160Zm0 220h160v-160H400v160ZM180-400h160v-160H180v160Zm440 0h160v-160H620v160ZM180-180h160v-160H180v160Zm440 0h160v-160H620v160Z\"/>\n",
              "  </svg>\n",
              "    </button>\n",
              "\n",
              "  <style>\n",
              "    .colab-df-container {\n",
              "      display:flex;\n",
              "      gap: 12px;\n",
              "    }\n",
              "\n",
              "    .colab-df-convert {\n",
              "      background-color: #E8F0FE;\n",
              "      border: none;\n",
              "      border-radius: 50%;\n",
              "      cursor: pointer;\n",
              "      display: none;\n",
              "      fill: #1967D2;\n",
              "      height: 32px;\n",
              "      padding: 0 0 0 0;\n",
              "      width: 32px;\n",
              "    }\n",
              "\n",
              "    .colab-df-convert:hover {\n",
              "      background-color: #E2EBFA;\n",
              "      box-shadow: 0px 1px 2px rgba(60, 64, 67, 0.3), 0px 1px 3px 1px rgba(60, 64, 67, 0.15);\n",
              "      fill: #174EA6;\n",
              "    }\n",
              "\n",
              "    .colab-df-buttons div {\n",
              "      margin-bottom: 4px;\n",
              "    }\n",
              "\n",
              "    [theme=dark] .colab-df-convert {\n",
              "      background-color: #3B4455;\n",
              "      fill: #D2E3FC;\n",
              "    }\n",
              "\n",
              "    [theme=dark] .colab-df-convert:hover {\n",
              "      background-color: #434B5C;\n",
              "      box-shadow: 0px 1px 3px 1px rgba(0, 0, 0, 0.15);\n",
              "      filter: drop-shadow(0px 1px 2px rgba(0, 0, 0, 0.3));\n",
              "      fill: #FFFFFF;\n",
              "    }\n",
              "  </style>\n",
              "\n",
              "    <script>\n",
              "      const buttonEl =\n",
              "        document.querySelector('#df-fbd41625-b2f5-4745-b254-7661a66c0dcf button.colab-df-convert');\n",
              "      buttonEl.style.display =\n",
              "        google.colab.kernel.accessAllowed ? 'block' : 'none';\n",
              "\n",
              "      async function convertToInteractive(key) {\n",
              "        const element = document.querySelector('#df-fbd41625-b2f5-4745-b254-7661a66c0dcf');\n",
              "        const dataTable =\n",
              "          await google.colab.kernel.invokeFunction('convertToInteractive',\n",
              "                                                    [key], {});\n",
              "        if (!dataTable) return;\n",
              "\n",
              "        const docLinkHtml = 'Like what you see? Visit the ' +\n",
              "          '<a target=\"_blank\" href=https://colab.research.google.com/notebooks/data_table.ipynb>data table notebook</a>'\n",
              "          + ' to learn more about interactive tables.';\n",
              "        element.innerHTML = '';\n",
              "        dataTable['output_type'] = 'display_data';\n",
              "        await google.colab.output.renderOutput(dataTable, element);\n",
              "        const docLink = document.createElement('div');\n",
              "        docLink.innerHTML = docLinkHtml;\n",
              "        element.appendChild(docLink);\n",
              "      }\n",
              "    </script>\n",
              "  </div>\n",
              "\n",
              "\n",
              "    <div id=\"df-94afec47-76e0-4fc3-bbeb-826735d559ef\">\n",
              "      <button class=\"colab-df-quickchart\" onclick=\"quickchart('df-94afec47-76e0-4fc3-bbeb-826735d559ef')\"\n",
              "                title=\"Suggest charts\"\n",
              "                style=\"display:none;\">\n",
              "\n",
              "<svg xmlns=\"http://www.w3.org/2000/svg\" height=\"24px\"viewBox=\"0 0 24 24\"\n",
              "     width=\"24px\">\n",
              "    <g>\n",
              "        <path d=\"M19 3H5c-1.1 0-2 .9-2 2v14c0 1.1.9 2 2 2h14c1.1 0 2-.9 2-2V5c0-1.1-.9-2-2-2zM9 17H7v-7h2v7zm4 0h-2V7h2v10zm4 0h-2v-4h2v4z\"/>\n",
              "    </g>\n",
              "</svg>\n",
              "      </button>\n",
              "\n",
              "<style>\n",
              "  .colab-df-quickchart {\n",
              "      --bg-color: #E8F0FE;\n",
              "      --fill-color: #1967D2;\n",
              "      --hover-bg-color: #E2EBFA;\n",
              "      --hover-fill-color: #174EA6;\n",
              "      --disabled-fill-color: #AAA;\n",
              "      --disabled-bg-color: #DDD;\n",
              "  }\n",
              "\n",
              "  [theme=dark] .colab-df-quickchart {\n",
              "      --bg-color: #3B4455;\n",
              "      --fill-color: #D2E3FC;\n",
              "      --hover-bg-color: #434B5C;\n",
              "      --hover-fill-color: #FFFFFF;\n",
              "      --disabled-bg-color: #3B4455;\n",
              "      --disabled-fill-color: #666;\n",
              "  }\n",
              "\n",
              "  .colab-df-quickchart {\n",
              "    background-color: var(--bg-color);\n",
              "    border: none;\n",
              "    border-radius: 50%;\n",
              "    cursor: pointer;\n",
              "    display: none;\n",
              "    fill: var(--fill-color);\n",
              "    height: 32px;\n",
              "    padding: 0;\n",
              "    width: 32px;\n",
              "  }\n",
              "\n",
              "  .colab-df-quickchart:hover {\n",
              "    background-color: var(--hover-bg-color);\n",
              "    box-shadow: 0 1px 2px rgba(60, 64, 67, 0.3), 0 1px 3px 1px rgba(60, 64, 67, 0.15);\n",
              "    fill: var(--button-hover-fill-color);\n",
              "  }\n",
              "\n",
              "  .colab-df-quickchart-complete:disabled,\n",
              "  .colab-df-quickchart-complete:disabled:hover {\n",
              "    background-color: var(--disabled-bg-color);\n",
              "    fill: var(--disabled-fill-color);\n",
              "    box-shadow: none;\n",
              "  }\n",
              "\n",
              "  .colab-df-spinner {\n",
              "    border: 2px solid var(--fill-color);\n",
              "    border-color: transparent;\n",
              "    border-bottom-color: var(--fill-color);\n",
              "    animation:\n",
              "      spin 1s steps(1) infinite;\n",
              "  }\n",
              "\n",
              "  @keyframes spin {\n",
              "    0% {\n",
              "      border-color: transparent;\n",
              "      border-bottom-color: var(--fill-color);\n",
              "      border-left-color: var(--fill-color);\n",
              "    }\n",
              "    20% {\n",
              "      border-color: transparent;\n",
              "      border-left-color: var(--fill-color);\n",
              "      border-top-color: var(--fill-color);\n",
              "    }\n",
              "    30% {\n",
              "      border-color: transparent;\n",
              "      border-left-color: var(--fill-color);\n",
              "      border-top-color: var(--fill-color);\n",
              "      border-right-color: var(--fill-color);\n",
              "    }\n",
              "    40% {\n",
              "      border-color: transparent;\n",
              "      border-right-color: var(--fill-color);\n",
              "      border-top-color: var(--fill-color);\n",
              "    }\n",
              "    60% {\n",
              "      border-color: transparent;\n",
              "      border-right-color: var(--fill-color);\n",
              "    }\n",
              "    80% {\n",
              "      border-color: transparent;\n",
              "      border-right-color: var(--fill-color);\n",
              "      border-bottom-color: var(--fill-color);\n",
              "    }\n",
              "    90% {\n",
              "      border-color: transparent;\n",
              "      border-bottom-color: var(--fill-color);\n",
              "    }\n",
              "  }\n",
              "</style>\n",
              "\n",
              "      <script>\n",
              "        async function quickchart(key) {\n",
              "          const quickchartButtonEl =\n",
              "            document.querySelector('#' + key + ' button');\n",
              "          quickchartButtonEl.disabled = true;  // To prevent multiple clicks.\n",
              "          quickchartButtonEl.classList.add('colab-df-spinner');\n",
              "          try {\n",
              "            const charts = await google.colab.kernel.invokeFunction(\n",
              "                'suggestCharts', [key], {});\n",
              "          } catch (error) {\n",
              "            console.error('Error during call to suggestCharts:', error);\n",
              "          }\n",
              "          quickchartButtonEl.classList.remove('colab-df-spinner');\n",
              "          quickchartButtonEl.classList.add('colab-df-quickchart-complete');\n",
              "        }\n",
              "        (() => {\n",
              "          let quickchartButtonEl =\n",
              "            document.querySelector('#df-94afec47-76e0-4fc3-bbeb-826735d559ef button');\n",
              "          quickchartButtonEl.style.display =\n",
              "            google.colab.kernel.accessAllowed ? 'block' : 'none';\n",
              "        })();\n",
              "      </script>\n",
              "    </div>\n",
              "\n",
              "  <div id=\"id_5ec1f757-c4ae-479e-9206-d233989f8843\">\n",
              "    <style>\n",
              "      .colab-df-generate {\n",
              "        background-color: #E8F0FE;\n",
              "        border: none;\n",
              "        border-radius: 50%;\n",
              "        cursor: pointer;\n",
              "        display: none;\n",
              "        fill: #1967D2;\n",
              "        height: 32px;\n",
              "        padding: 0 0 0 0;\n",
              "        width: 32px;\n",
              "      }\n",
              "\n",
              "      .colab-df-generate:hover {\n",
              "        background-color: #E2EBFA;\n",
              "        box-shadow: 0px 1px 2px rgba(60, 64, 67, 0.3), 0px 1px 3px 1px rgba(60, 64, 67, 0.15);\n",
              "        fill: #174EA6;\n",
              "      }\n",
              "\n",
              "      [theme=dark] .colab-df-generate {\n",
              "        background-color: #3B4455;\n",
              "        fill: #D2E3FC;\n",
              "      }\n",
              "\n",
              "      [theme=dark] .colab-df-generate:hover {\n",
              "        background-color: #434B5C;\n",
              "        box-shadow: 0px 1px 3px 1px rgba(0, 0, 0, 0.15);\n",
              "        filter: drop-shadow(0px 1px 2px rgba(0, 0, 0, 0.3));\n",
              "        fill: #FFFFFF;\n",
              "      }\n",
              "    </style>\n",
              "    <button class=\"colab-df-generate\" onclick=\"generateWithVariable('data')\"\n",
              "            title=\"Generate code using this dataframe.\"\n",
              "            style=\"display:none;\">\n",
              "\n",
              "  <svg xmlns=\"http://www.w3.org/2000/svg\" height=\"24px\"viewBox=\"0 0 24 24\"\n",
              "       width=\"24px\">\n",
              "    <path d=\"M7,19H8.4L18.45,9,17,7.55,7,17.6ZM5,21V16.75L18.45,3.32a2,2,0,0,1,2.83,0l1.4,1.43a1.91,1.91,0,0,1,.58,1.4,1.91,1.91,0,0,1-.58,1.4L9.25,21ZM18.45,9,17,7.55Zm-12,3A5.31,5.31,0,0,0,4.9,8.1,5.31,5.31,0,0,0,1,6.5,5.31,5.31,0,0,0,4.9,4.9,5.31,5.31,0,0,0,6.5,1,5.31,5.31,0,0,0,8.1,4.9,5.31,5.31,0,0,0,12,6.5,5.46,5.46,0,0,0,6.5,12Z\"/>\n",
              "  </svg>\n",
              "    </button>\n",
              "    <script>\n",
              "      (() => {\n",
              "      const buttonEl =\n",
              "        document.querySelector('#id_5ec1f757-c4ae-479e-9206-d233989f8843 button.colab-df-generate');\n",
              "      buttonEl.style.display =\n",
              "        google.colab.kernel.accessAllowed ? 'block' : 'none';\n",
              "\n",
              "      buttonEl.onclick = () => {\n",
              "        google.colab.notebook.generateWithVariable('data');\n",
              "      }\n",
              "      })();\n",
              "    </script>\n",
              "  </div>\n",
              "\n",
              "    </div>\n",
              "  </div>\n"
            ],
            "application/vnd.google.colaboratory.intrinsic+json": {
              "type": "dataframe",
              "variable_name": "data"
            }
          },
          "metadata": {},
          "execution_count": 3
        }
      ],
      "source": [
        "data"
      ]
    },
    {
      "cell_type": "markdown",
      "metadata": {
        "id": "MoNxxp1nmyNw"
      },
      "source": [
        "We will create a new data column which is the date and a list with the number of accidents for every day of the year:"
      ]
    },
    {
      "cell_type": "code",
      "execution_count": 4,
      "metadata": {
        "colab": {
          "base_uri": "https://localhost:8080/"
        },
        "id": "MgWTDl_tmyNx",
        "outputId": "343f4412-b4f7-4557-84cf-1fd9730651b7"
      },
      "outputs": [
        {
          "output_type": "stream",
          "name": "stdout",
          "text": [
            "Mean: 25.90958904109589\n"
          ]
        }
      ],
      "source": [
        "#Create a new column which is the date\n",
        "data['Date'] = '2013-'+data['Month of the Year'].apply(lambda x : str(x)) + '-' +  data['Day of the Month'].apply(lambda x : str(x))\n",
        "data['Date'] = pd.to_datetime(data['Date'])\n",
        "accidents = data.groupby(['Date']).size()\n",
        "print(\"Mean:\", accidents.mean())"
      ]
    },
    {
      "cell_type": "code",
      "source": [
        "plt.rcParams['text.usetex'] = False  # Disable LaTeX rendering"
      ],
      "metadata": {
        "id": "8IVhw0dK6LIi"
      },
      "execution_count": 6,
      "outputs": []
    },
    {
      "cell_type": "markdown",
      "metadata": {
        "id": "mCb8I3dtmyNz"
      },
      "source": [
        "Let's suppose that we are interested in describing the number of daily traffic\n",
        "accidents (**accident rate**) in the streets of Barcelona during 2013.  In order to get a first idea of the data, we can plot the number of accidents for each day of 2013:"
      ]
    },
    {
      "cell_type": "code",
      "execution_count": 7,
      "metadata": {
        "id": "NGeGou4SmyN0",
        "outputId": "8b865906-a5fb-4405-f947-27efa21938e8",
        "colab": {
          "base_uri": "https://localhost:8080/",
          "height": 1000
        }
      },
      "outputs": [
        {
          "output_type": "stream",
          "name": "stderr",
          "text": [
            "WARNING:matplotlib.font_manager:findfont: Font family 'times' not found.\n",
            "WARNING:matplotlib.font_manager:findfont: Font family 'times' not found.\n",
            "WARNING:matplotlib.font_manager:findfont: Font family 'times' not found.\n",
            "WARNING:matplotlib.font_manager:findfont: Font family 'times' not found.\n",
            "WARNING:matplotlib.font_manager:findfont: Font family 'times' not found.\n",
            "WARNING:matplotlib.font_manager:findfont: Font family 'times' not found.\n",
            "WARNING:matplotlib.font_manager:findfont: Font family 'times' not found.\n",
            "WARNING:matplotlib.font_manager:findfont: Font family 'times' not found.\n",
            "WARNING:matplotlib.font_manager:findfont: Font family 'times' not found.\n",
            "WARNING:matplotlib.font_manager:findfont: Font family 'times' not found.\n",
            "WARNING:matplotlib.font_manager:findfont: Font family 'times' not found.\n",
            "WARNING:matplotlib.font_manager:findfont: Font family 'times' not found.\n",
            "WARNING:matplotlib.font_manager:findfont: Font family 'times' not found.\n",
            "WARNING:matplotlib.font_manager:findfont: Font family 'times' not found.\n",
            "WARNING:matplotlib.font_manager:findfont: Font family 'times' not found.\n",
            "WARNING:matplotlib.font_manager:findfont: Font family 'times' not found.\n",
            "WARNING:matplotlib.font_manager:findfont: Font family 'times' not found.\n",
            "WARNING:matplotlib.font_manager:findfont: Font family 'times' not found.\n",
            "WARNING:matplotlib.font_manager:findfont: Font family 'times' not found.\n",
            "WARNING:matplotlib.font_manager:findfont: Font family 'times' not found.\n",
            "WARNING:matplotlib.font_manager:findfont: Font family 'times' not found.\n",
            "WARNING:matplotlib.font_manager:findfont: Font family 'times' not found.\n",
            "WARNING:matplotlib.font_manager:findfont: Font family 'times' not found.\n",
            "WARNING:matplotlib.font_manager:findfont: Font family 'times' not found.\n",
            "WARNING:matplotlib.font_manager:findfont: Font family 'times' not found.\n",
            "WARNING:matplotlib.font_manager:findfont: Font family 'times' not found.\n",
            "WARNING:matplotlib.font_manager:findfont: Font family 'times' not found.\n",
            "WARNING:matplotlib.font_manager:findfont: Font family 'times' not found.\n",
            "WARNING:matplotlib.font_manager:findfont: Font family 'times' not found.\n",
            "WARNING:matplotlib.font_manager:findfont: Font family 'times' not found.\n",
            "WARNING:matplotlib.font_manager:findfont: Font family 'times' not found.\n",
            "WARNING:matplotlib.font_manager:findfont: Font family 'times' not found.\n",
            "WARNING:matplotlib.font_manager:findfont: Font family 'times' not found.\n",
            "WARNING:matplotlib.font_manager:findfont: Font family 'times' not found.\n",
            "WARNING:matplotlib.font_manager:findfont: Font family 'times' not found.\n",
            "WARNING:matplotlib.font_manager:findfont: Font family 'times' not found.\n",
            "WARNING:matplotlib.font_manager:findfont: Font family 'times' not found.\n",
            "WARNING:matplotlib.font_manager:findfont: Font family 'times' not found.\n",
            "WARNING:matplotlib.font_manager:findfont: Font family 'times' not found.\n",
            "WARNING:matplotlib.font_manager:findfont: Font family 'times' not found.\n",
            "WARNING:matplotlib.font_manager:findfont: Font family 'times' not found.\n",
            "WARNING:matplotlib.font_manager:findfont: Font family 'times' not found.\n",
            "WARNING:matplotlib.font_manager:findfont: Font family 'times' not found.\n",
            "WARNING:matplotlib.font_manager:findfont: Font family 'times' not found.\n",
            "WARNING:matplotlib.font_manager:findfont: Font family 'times' not found.\n",
            "WARNING:matplotlib.font_manager:findfont: Font family 'times' not found.\n",
            "WARNING:matplotlib.font_manager:findfont: Font family 'times' not found.\n"
          ]
        },
        {
          "output_type": "display_data",
          "data": {
            "text/plain": [
              "<Figure size 1200x400 with 1 Axes>"
            ],
            "image/png": "[encoded data removed]"
          },
          "metadata": {}
        }
      ],
      "source": [
        "fig, ax = plt.subplots(1, 1, figsize=(12, 4))\n",
        "plt.ylabel('Number of accidents')\n",
        "plt.xlabel('Day')\n",
        "plt.plot(range(0, 365), np.array(accidents), 'b-+', lw=0.7, alpha=0.7)\n",
        "plt.plot(range(0, 365), [accidents.mean()]*365, 'r-', lw=0.7, alpha=0.9)\n",
        "plt.show()"
      ]
    },
    {
      "cell_type": "markdown",
      "metadata": {
        "id": "b9ikvD0vmyN2"
      },
      "source": [
        "Alternatively, we can plot the distribution of our variable of interest: the daily number of accidents."
      ]
    },
    {
      "cell_type": "code",
      "execution_count": 8,
      "metadata": {
        "id": "Yoi4xFt5myN3",
        "outputId": "34847bb7-5669-4427-d217-d5e87a22cdc7",
        "colab": {
          "base_uri": "https://localhost:8080/",
          "height": 1000
        }
      },
      "outputs": [
        {
          "output_type": "stream",
          "name": "stderr",
          "text": [
            "WARNING:matplotlib.font_manager:findfont: Font family 'times' not found.\n",
            "WARNING:matplotlib.font_manager:findfont: Font family 'times' not found.\n",
            "WARNING:matplotlib.font_manager:findfont: Font family 'times' not found.\n",
            "WARNING:matplotlib.font_manager:findfont: Font family 'times' not found.\n",
            "WARNING:matplotlib.font_manager:findfont: Font family 'times' not found.\n",
            "WARNING:matplotlib.font_manager:findfont: Font family 'times' not found.\n",
            "WARNING:matplotlib.font_manager:findfont: Font family 'times' not found.\n",
            "WARNING:matplotlib.font_manager:findfont: Font family 'times' not found.\n",
            "WARNING:matplotlib.font_manager:findfont: Font family 'times' not found.\n",
            "WARNING:matplotlib.font_manager:findfont: Font family 'times' not found.\n",
            "WARNING:matplotlib.font_manager:findfont: Font family 'times' not found.\n",
            "WARNING:matplotlib.font_manager:findfont: Font family 'times' not found.\n",
            "WARNING:matplotlib.font_manager:findfont: Font family 'times' not found.\n",
            "WARNING:matplotlib.font_manager:findfont: Font family 'times' not found.\n",
            "WARNING:matplotlib.font_manager:findfont: Font family 'times' not found.\n",
            "WARNING:matplotlib.font_manager:findfont: Font family 'times' not found.\n",
            "WARNING:matplotlib.font_manager:findfont: Font family 'times' not found.\n",
            "WARNING:matplotlib.font_manager:findfont: Font family 'times' not found.\n",
            "WARNING:matplotlib.font_manager:findfont: Font family 'times' not found.\n",
            "WARNING:matplotlib.font_manager:findfont: Font family 'times' not found.\n",
            "WARNING:matplotlib.font_manager:findfont: Font family 'times' not found.\n",
            "WARNING:matplotlib.font_manager:findfont: Font family 'times' not found.\n",
            "WARNING:matplotlib.font_manager:findfont: Font family 'times' not found.\n",
            "WARNING:matplotlib.font_manager:findfont: Font family 'times' not found.\n",
            "WARNING:matplotlib.font_manager:findfont: Font family 'times' not found.\n",
            "WARNING:matplotlib.font_manager:findfont: Font family 'times' not found.\n",
            "WARNING:matplotlib.font_manager:findfont: Font family 'times' not found.\n",
            "WARNING:matplotlib.font_manager:findfont: Font family 'times' not found.\n",
            "WARNING:matplotlib.font_manager:findfont: Font family 'times' not found.\n",
            "WARNING:matplotlib.font_manager:findfont: Font family 'times' not found.\n",
            "WARNING:matplotlib.font_manager:findfont: Font family 'times' not found.\n",
            "WARNING:matplotlib.font_manager:findfont: Font family 'times' not found.\n",
            "WARNING:matplotlib.font_manager:findfont: Font family 'times' not found.\n",
            "WARNING:matplotlib.font_manager:findfont: Font family 'times' not found.\n",
            "WARNING:matplotlib.font_manager:findfont: Font family 'times' not found.\n",
            "WARNING:matplotlib.font_manager:findfont: Font family 'times' not found.\n",
            "WARNING:matplotlib.font_manager:findfont: Font family 'times' not found.\n",
            "WARNING:matplotlib.font_manager:findfont: Font family 'times' not found.\n",
            "WARNING:matplotlib.font_manager:findfont: Font family 'times' not found.\n",
            "WARNING:matplotlib.font_manager:findfont: Font family 'times' not found.\n",
            "WARNING:matplotlib.font_manager:findfont: Font family 'times' not found.\n",
            "WARNING:matplotlib.font_manager:findfont: Font family 'times' not found.\n",
            "WARNING:matplotlib.font_manager:findfont: Font family 'times' not found.\n"
          ]
        },
        {
          "output_type": "display_data",
          "data": {
            "text/plain": [
              "<Figure size 1200x300 with 1 Axes>"
            ],
            "image/png": "[encoded data removed]"
          },
          "metadata": {}
        }
      ],
      "source": [
        "fig, ax = plt.subplots(1, 1, figsize=(12, 3))\n",
        "plt.ylabel('Frequency')\n",
        "plt.xlabel('Number of accidents')\n",
        "plt.hist(np.array(accidents), bins=20)\n",
        "ax.axvline(x=accidents.mean(), ymin=0, ymax=40, color=[1, 0, 0])\n",
        "plt.show()"
      ]
    },
    {
      "cell_type": "markdown",
      "metadata": {
        "id": "C5Gz3odImyN5"
      },
      "source": [
        "If we have access to the whole *population*, the computation of the **accident rate** in 2013 is a simple operation: the total number of accidents divided by 365. As a measure of quality of this parameter we can also compute the standard deviation."
      ]
    },
    {
      "cell_type": "code",
      "execution_count": 9,
      "metadata": {
        "id": "Jx-1Y6A4myN6",
        "outputId": "808eae20-f0c8-4a6d-a0ae-832cae00240c",
        "colab": {
          "base_uri": "https://localhost:8080/"
        }
      },
      "outputs": [
        {
          "output_type": "stream",
          "name": "stdout",
          "text": [
            "Mean: 25.90958904109589 ; STD: 9.108324962464705\n"
          ]
        }
      ],
      "source": [
        "print(\"Mean:\", accidents.mean(), \"; STD:\", accidents.std())"
      ]
    },
    {
      "cell_type": "markdown",
      "metadata": {
        "id": "WBzN_syemyN7"
      },
      "source": [
        "But now, let's suppose that we have only access to a limited part of the data\n",
        "(the *sample*): the number of accidents during *some days* of 2013. Can we still\n",
        "give an approximation (an *estimate*) to this population mean?"
      ]
    },
    {
      "cell_type": "markdown",
      "metadata": {
        "id": "iUy4vh_BmyN8"
      },
      "source": [
        "## Variability in estimates.\n",
        "\n",
        "Estimates generally vary from one sample to another, and this sampling variation suggests our estimate may be close, but it will not be exactly equal to the parameter.\n",
        "\n",
        "This can be easily checked by generating 10 different samples (composed of 25% of the population) from our population and compute their accident rate estimates:"
      ]
    },
    {
      "cell_type": "code",
      "execution_count": 10,
      "metadata": {
        "id": "mn2b3hUlmyOA",
        "outputId": "01e26da9-1a03-432d-add1-a94554ee675e",
        "colab": {
          "base_uri": "https://localhost:8080/"
        }
      },
      "outputs": [
        {
          "output_type": "stream",
          "name": "stdout",
          "text": [
            "Sample 0: Mean 25.62\n",
            "Sample 1: Mean 25.09\n",
            "Sample 2: Mean 26.20\n",
            "Sample 3: Mean 25.90\n",
            "Sample 4: Mean 26.00\n",
            "Sample 5: Mean 25.73\n",
            "Sample 6: Mean 25.15\n",
            "Sample 7: Mean 25.84\n",
            "Sample 8: Mean 27.12\n",
            "Sample 9: Mean 26.61\n"
          ]
        }
      ],
      "source": [
        "df = accidents.to_frame()\n",
        "m = []\n",
        "\n",
        "for i in range(10):\n",
        "    df['for_testing'] = False\n",
        "\n",
        "    # get a 25% sample\n",
        "    sampled_ids = np.random.choice(df.index, size=np.int64(np.ceil(df.index.size * 0.25)), replace=False)\n",
        "\n",
        "    df.loc[sampled_ids, 'for_testing'] = True\n",
        "    accidents_sample = df[df['for_testing'] == True]\n",
        "\n",
        "    m.append(accidents_sample[0].mean())\n",
        "    print('Sample '+str(i)+': Mean', '%.2f' % accidents_sample[0].mean())\n"
      ]
    },
    {
      "cell_type": "code",
      "execution_count": 11,
      "metadata": {
        "id": "yQX_f5XMmyOD",
        "outputId": "121feef0-2678-41e9-e2f4-16514cab364f",
        "colab": {
          "base_uri": "https://localhost:8080/",
          "height": 1000
        }
      },
      "outputs": [
        {
          "output_type": "execute_result",
          "data": {
            "text/plain": [
              "Text(0.5, 0, 'Sample')"
            ]
          },
          "metadata": {},
          "execution_count": 11
        },
        {
          "output_type": "stream",
          "name": "stderr",
          "text": [
            "WARNING:matplotlib.font_manager:findfont: Font family 'times' not found.\n",
            "WARNING:matplotlib.font_manager:findfont: Font family 'times' not found.\n",
            "WARNING:matplotlib.font_manager:findfont: Font family 'times' not found.\n",
            "WARNING:matplotlib.font_manager:findfont: Font family 'times' not found.\n",
            "WARNING:matplotlib.font_manager:findfont: Font family 'times' not found.\n",
            "WARNING:matplotlib.font_manager:findfont: Font family 'times' not found.\n",
            "WARNING:matplotlib.font_manager:findfont: Font family 'times' not found.\n",
            "WARNING:matplotlib.font_manager:findfont: Font family 'times' not found.\n",
            "WARNING:matplotlib.font_manager:findfont: Font family 'times' not found.\n",
            "WARNING:matplotlib.font_manager:findfont: Font family 'times' not found.\n",
            "WARNING:matplotlib.font_manager:findfont: Font family 'times' not found.\n",
            "WARNING:matplotlib.font_manager:findfont: Font family 'times' not found.\n",
            "WARNING:matplotlib.font_manager:findfont: Font family 'times' not found.\n",
            "WARNING:matplotlib.font_manager:findfont: Font family 'times' not found.\n",
            "WARNING:matplotlib.font_manager:findfont: Font family 'times' not found.\n",
            "WARNING:matplotlib.font_manager:findfont: Font family 'times' not found.\n",
            "WARNING:matplotlib.font_manager:findfont: Font family 'times' not found.\n",
            "WARNING:matplotlib.font_manager:findfont: Font family 'times' not found.\n",
            "WARNING:matplotlib.font_manager:findfont: Font family 'times' not found.\n",
            "WARNING:matplotlib.font_manager:findfont: Font family 'times' not found.\n",
            "WARNING:matplotlib.font_manager:findfont: Font family 'times' not found.\n",
            "WARNING:matplotlib.font_manager:findfont: Font family 'times' not found.\n",
            "WARNING:matplotlib.font_manager:findfont: Font family 'times' not found.\n",
            "WARNING:matplotlib.font_manager:findfont: Font family 'times' not found.\n",
            "WARNING:matplotlib.font_manager:findfont: Font family 'times' not found.\n",
            "WARNING:matplotlib.font_manager:findfont: Font family 'times' not found.\n",
            "WARNING:matplotlib.font_manager:findfont: Font family 'times' not found.\n",
            "WARNING:matplotlib.font_manager:findfont: Font family 'times' not found.\n",
            "WARNING:matplotlib.font_manager:findfont: Font family 'times' not found.\n",
            "WARNING:matplotlib.font_manager:findfont: Font family 'times' not found.\n",
            "WARNING:matplotlib.font_manager:findfont: Font family 'times' not found.\n",
            "WARNING:matplotlib.font_manager:findfont: Font family 'times' not found.\n",
            "WARNING:matplotlib.font_manager:findfont: Font family 'times' not found.\n",
            "WARNING:matplotlib.font_manager:findfont: Font family 'times' not found.\n",
            "WARNING:matplotlib.font_manager:findfont: Font family 'times' not found.\n",
            "WARNING:matplotlib.font_manager:findfont: Font family 'times' not found.\n",
            "WARNING:matplotlib.font_manager:findfont: Font family 'times' not found.\n",
            "WARNING:matplotlib.font_manager:findfont: Font family 'times' not found.\n",
            "WARNING:matplotlib.font_manager:findfont: Font family 'times' not found.\n",
            "WARNING:matplotlib.font_manager:findfont: Font family 'times' not found.\n",
            "WARNING:matplotlib.font_manager:findfont: Font family 'times' not found.\n",
            "WARNING:matplotlib.font_manager:findfont: Font family 'times' not found.\n",
            "WARNING:matplotlib.font_manager:findfont: Font family 'times' not found.\n",
            "WARNING:matplotlib.font_manager:findfont: Font family 'times' not found.\n",
            "WARNING:matplotlib.font_manager:findfont: Font family 'times' not found.\n",
            "WARNING:matplotlib.font_manager:findfont: Font family 'times' not found.\n",
            "WARNING:matplotlib.font_manager:findfont: Font family 'times' not found.\n",
            "WARNING:matplotlib.font_manager:findfont: Font family 'times' not found.\n",
            "WARNING:matplotlib.font_manager:findfont: Font family 'times' not found.\n",
            "WARNING:matplotlib.font_manager:findfont: Font family 'times' not found.\n",
            "WARNING:matplotlib.font_manager:findfont: Font family 'times' not found.\n",
            "WARNING:matplotlib.font_manager:findfont: Font family 'times' not found.\n"
          ]
        },
        {
          "output_type": "display_data",
          "data": {
            "text/plain": [
              "<Figure size 1200x200 with 1 Axes>"
            ],
            "image/png": "[encoded data removed]"
          },
          "metadata": {}
        }
      ],
      "source": [
        "fig, ax = plt.subplots(1, 1, figsize=(12, 2))\n",
        "x = range(10)\n",
        "ax.step(x,m, where='mid')\n",
        "ax.set_ylabel('Mean')\n",
        "ax.set_xlabel('Sample')"
      ]
    },
    {
      "cell_type": "markdown",
      "metadata": {
        "id": "i_NSCVH-myOE"
      },
      "source": [
        "Accident rate estimates can range from 24 accident per day to 27 accidents per day, depending on the sample. How can we give a unique value for the estimate?"
      ]
    },
    {
      "cell_type": "markdown",
      "metadata": {
        "id": "vlblN9gTmyOF"
      },
      "source": [
        "### Sampling distribution of point estimates\n",
        "\n",
        "The most intuitive way to go about giving a value for the estimate is to simply take the *sample\n",
        "mean*. The sample mean is a point estimate of the population mean. If we\n",
        "can only choose one value to estimate the population mean, this is our best\n",
        "guess.\n",
        "\n",
        "Let's computer the sample means for a set of 10000 samples, each one composed of 200 days:"
      ]
    },
    {
      "cell_type": "code",
      "execution_count": 12,
      "metadata": {
        "id": "9Yh_-FRymyOJ",
        "outputId": "8c9f93a5-e858-4787-bfda-2d47bad89556",
        "colab": {
          "base_uri": "https://localhost:8080/",
          "height": 1000
        }
      },
      "outputs": [
        {
          "output_type": "display_data",
          "data": {
            "text/plain": [
              "<Figure size 640x480 with 0 Axes>"
            ]
          },
          "metadata": {}
        },
        {
          "output_type": "stream",
          "name": "stderr",
          "text": [
            "WARNING:matplotlib.font_manager:findfont: Font family 'times' not found.\n",
            "WARNING:matplotlib.font_manager:findfont: Font family 'times' not found.\n",
            "WARNING:matplotlib.font_manager:findfont: Font family 'times' not found.\n",
            "WARNING:matplotlib.font_manager:findfont: Font family 'times' not found.\n",
            "WARNING:matplotlib.font_manager:findfont: Font family 'times' not found.\n",
            "WARNING:matplotlib.font_manager:findfont: Font family 'times' not found.\n",
            "WARNING:matplotlib.font_manager:findfont: Font family 'times' not found.\n",
            "WARNING:matplotlib.font_manager:findfont: Font family 'times' not found.\n",
            "WARNING:matplotlib.font_manager:findfont: Font family 'times' not found.\n",
            "WARNING:matplotlib.font_manager:findfont: Font family 'times' not found.\n",
            "WARNING:matplotlib.font_manager:findfont: Font family 'times' not found.\n",
            "WARNING:matplotlib.font_manager:findfont: Font family 'times' not found.\n",
            "WARNING:matplotlib.font_manager:findfont: Font family 'times' not found.\n",
            "WARNING:matplotlib.font_manager:findfont: Font family 'times' not found.\n",
            "WARNING:matplotlib.font_manager:findfont: Font family 'times' not found.\n",
            "WARNING:matplotlib.font_manager:findfont: Font family 'times' not found.\n",
            "WARNING:matplotlib.font_manager:findfont: Font family 'times' not found.\n",
            "WARNING:matplotlib.font_manager:findfont: Font family 'times' not found.\n",
            "WARNING:matplotlib.font_manager:findfont: Font family 'times' not found.\n",
            "WARNING:matplotlib.font_manager:findfont: Font family 'times' not found.\n",
            "WARNING:matplotlib.font_manager:findfont: Font family 'times' not found.\n",
            "WARNING:matplotlib.font_manager:findfont: Font family 'times' not found.\n",
            "WARNING:matplotlib.font_manager:findfont: Font family 'times' not found.\n",
            "WARNING:matplotlib.font_manager:findfont: Font family 'times' not found.\n",
            "WARNING:matplotlib.font_manager:findfont: Font family 'times' not found.\n",
            "WARNING:matplotlib.font_manager:findfont: Font family 'times' not found.\n",
            "WARNING:matplotlib.font_manager:findfont: Font family 'times' not found.\n",
            "WARNING:matplotlib.font_manager:findfont: Font family 'times' not found.\n",
            "WARNING:matplotlib.font_manager:findfont: Font family 'times' not found.\n",
            "WARNING:matplotlib.font_manager:findfont: Font family 'times' not found.\n",
            "WARNING:matplotlib.font_manager:findfont: Font family 'times' not found.\n",
            "WARNING:matplotlib.font_manager:findfont: Font family 'times' not found.\n",
            "WARNING:matplotlib.font_manager:findfont: Font family 'times' not found.\n",
            "WARNING:matplotlib.font_manager:findfont: Font family 'times' not found.\n",
            "WARNING:matplotlib.font_manager:findfont: Font family 'times' not found.\n",
            "WARNING:matplotlib.font_manager:findfont: Font family 'times' not found.\n",
            "WARNING:matplotlib.font_manager:findfont: Font family 'times' not found.\n",
            "WARNING:matplotlib.font_manager:findfont: Font family 'times' not found.\n",
            "WARNING:matplotlib.font_manager:findfont: Font family 'times' not found.\n",
            "WARNING:matplotlib.font_manager:findfont: Font family 'times' not found.\n",
            "WARNING:matplotlib.font_manager:findfont: Font family 'times' not found.\n",
            "WARNING:matplotlib.font_manager:findfont: Font family 'times' not found.\n",
            "WARNING:matplotlib.font_manager:findfont: Font family 'times' not found.\n",
            "WARNING:matplotlib.font_manager:findfont: Font family 'times' not found.\n",
            "WARNING:matplotlib.font_manager:findfont: Font family 'times' not found.\n",
            "WARNING:matplotlib.font_manager:findfont: Font family 'times' not found.\n"
          ]
        },
        {
          "output_type": "display_data",
          "data": {
            "text/plain": [
              "<Figure size 1200x300 with 1 Axes>"
            ],
            "image/png": "[encoded data removed]"
          },
          "metadata": {}
        },
        {
          "output_type": "stream",
          "name": "stdout",
          "text": [
            "Sample mean: 25.906495\n"
          ]
        },
        {
          "output_type": "display_data",
          "data": {
            "text/plain": [
              "<Figure size 640x480 with 0 Axes>"
            ]
          },
          "metadata": {}
        }
      ],
      "source": [
        "plt.autumn()\n",
        "\n",
        "# population\n",
        "df = accidents.to_frame()\n",
        "N_test = 10000\n",
        "elements = 200\n",
        "\n",
        "# mean array of samples\n",
        "means = [0] * N_test\n",
        "\n",
        "# sample generation\n",
        "for i in range(N_test):\n",
        "    rows = np.random.choice(df.index.values, elements)\n",
        "    sampled_df = df.loc[rows]\n",
        "    means[i] = sampled_df.mean()\n",
        "\n",
        "fig, ax = plt.subplots(1, 1, figsize=(12,3))\n",
        "\n",
        "plt.hist(np.array(means),bins=50)\n",
        "plt.ylabel('Frequency')\n",
        "plt.xlabel('Sample mean value')\n",
        "ax.axvline(x = np.array(means).mean(),\n",
        "           ymin = 0,\n",
        "           ymax = 700,\n",
        "           color = [1, 0, 0])\n",
        "plt.show()\n",
        "plt.set_cmap(cmap=cm.Pastel2)\n",
        "\n",
        "print(\"Sample mean:\", np.array(means).mean())"
      ]
    },
    {
      "cell_type": "markdown",
      "metadata": {
        "id": "4hZYamEUmyOL"
      },
      "source": [
        "This is the **sampling distribution of the mean**. From it we could estimate the most probable value of the mean and also its standard deviation, but in the real world we will not have access to this function!"
      ]
    },
    {
      "cell_type": "markdown",
      "metadata": {
        "id": "cHBHKqWZmyOM"
      },
      "source": [
        "### Standard error of the mean\n",
        "\n",
        "Noe let's suppose that we have only one sample of the propulation. As comented before, the mean estimate from that sample may be close, but it will not be exactly equal to our parameter of interest (that can only be computed if we have access to the full population). For this reason it is interesting to measure its variability with respect to the sampling process. To this end we can use the *standard error of the mean*.\n",
        "\n",
        "It can be mathematically shown that given $n$ independent observations $\\{ x_i \\}_{i=1,..,n}$ from a population with a standard deviation $\\sigma_x$, the standard deviation of the sample mean $\\sigma_{\\bar{x}}$, or **standard error** is:\n",
        "\n",
        "$$ SE = \\frac{\\sigma_{x}}{\\sqrt{n}} $$\n",
        "\n",
        "This allows **to estimate the standard deviation of the sample mean** even if we cannot perform the simulation process (f.e. because we have no access to the population). Usually, $\\sigma_x$ is not known and it is substituted by its empirical estimate (that is sufficiently good of $n>30$ and the population distribution is not skewed):"
      ]
    },
    {
      "cell_type": "code",
      "execution_count": 13,
      "metadata": {
        "id": "nck6sBcOmyOO",
        "outputId": "d4f1ad24-1501-49fa-ff4a-5b45543845a1",
        "colab": {
          "base_uri": "https://localhost:8080/"
        }
      },
      "outputs": [
        {
          "output_type": "stream",
          "name": "stdout",
          "text": [
            "Direct estimation of SE from one sample of 200 elements: 0.616801605952455\n",
            "Estimation of the SE by simulating 10000 samples of 200 elements: 0.6450527458859469\n"
          ]
        }
      ],
      "source": [
        "rows = np.random.choice(df.index.values, 200)\n",
        "sampled_df = df.loc[rows]\n",
        "est_sigma_mean = sampled_df.std()/math.sqrt(200)\n",
        "\n",
        "print('Direct estimation of SE from one sample of 200 elements:', \\\n",
        "       est_sigma_mean[0])\n",
        "print('Estimation of the SE by simulating 10000 samples of 200 elements:',  \\\n",
        "       np.array(means).std())"
      ]
    },
    {
      "cell_type": "markdown",
      "metadata": {
        "id": "wdM75t1jmyOP"
      },
      "source": [
        "We could be also interested in quantifying the standard deviation of other estimates: median, standard deviation, etc., but unlike in the case of the sample mean, there is no simple formula for the standard\n",
        "error of other interesting sample estimates, such as the median."
      ]
    },
    {
      "cell_type": "markdown",
      "metadata": {
        "id": "vUKIqh2JmyOQ"
      },
      "source": [
        "Let's consider from now the whole accidents dataset as a sample from an hypothetical population (this is the most common situation when analyzing real data!)."
      ]
    },
    {
      "cell_type": "markdown",
      "metadata": {
        "id": "wZnzftvwmyOQ"
      },
      "source": [
        "### Bootstrapping the standard error of the mean.\n",
        "\n",
        "A modern alternative to the traditional approach to statistical inference is\n",
        "the *bootstrapping method*. In the bootstrap, we draw $N$ observations with\n",
        "replacement from the original data to create a bootstrap sample or resample.\n",
        "Then, we can calculate the mean for this resample. By repeating this process\n",
        "a large number of times we can built a good approximation of the mean\n",
        "sampling distribution."
      ]
    },
    {
      "cell_type": "code",
      "execution_count": 14,
      "metadata": {
        "id": "7SQzrVMimyOR",
        "outputId": "7639ec76-7bd2-43c9-b8aa-2ae1e7fb0f75",
        "colab": {
          "base_uri": "https://localhost:8080/"
        }
      },
      "outputs": [
        {
          "output_type": "stream",
          "name": "stderr",
          "text": [
            "<ipython-input-14-f7e4e2c83674>:5: FutureWarning: Series.__getitem__ treating keys as positions is deprecated. In a future version, integer keys will always be treated as labels (consistent with DataFrame behavior). To access a value by position, use `ser.iloc[pos]`\n",
            "  sample = [X[_] for _ in np.random.randint(len(X), size=len(X))]\n"
          ]
        },
        {
          "output_type": "stream",
          "name": "stdout",
          "text": [
            "Mean estimate: 25.915242739726025\n"
          ]
        }
      ],
      "source": [
        "def meanBootstrap(X,numberb):\n",
        "    import numpy as np\n",
        "    x = [0]*numberb\n",
        "    for i in range(numberb):\n",
        "        sample = [X[_] for _ in np.random.randint(len(X), size=len(X))]\n",
        "        x[i] = np.mean(sample)\n",
        "    return x\n",
        "\n",
        "m = meanBootstrap(accidents, 10000)\n",
        "print(\"Mean estimate:\", np.mean(m))"
      ]
    },
    {
      "cell_type": "code",
      "execution_count": 15,
      "metadata": {
        "id": "emBPFi6rmyOS",
        "outputId": "88876740-486f-4af7-d78e-5babb2af9b1e",
        "colab": {
          "base_uri": "https://localhost:8080/",
          "height": 1000
        }
      },
      "outputs": [
        {
          "output_type": "execute_result",
          "data": {
            "text/plain": [
              "<matplotlib.lines.Line2D at 0x7cf9b026dc50>"
            ]
          },
          "metadata": {},
          "execution_count": 15
        },
        {
          "output_type": "stream",
          "name": "stderr",
          "text": [
            "WARNING:matplotlib.font_manager:findfont: Font family 'times' not found.\n",
            "WARNING:matplotlib.font_manager:findfont: Font family 'times' not found.\n",
            "WARNING:matplotlib.font_manager:findfont: Font family 'times' not found.\n",
            "WARNING:matplotlib.font_manager:findfont: Font family 'times' not found.\n",
            "WARNING:matplotlib.font_manager:findfont: Font family 'times' not found.\n",
            "WARNING:matplotlib.font_manager:findfont: Font family 'times' not found.\n",
            "WARNING:matplotlib.font_manager:findfont: Font family 'times' not found.\n",
            "WARNING:matplotlib.font_manager:findfont: Font family 'times' not found.\n",
            "WARNING:matplotlib.font_manager:findfont: Font family 'times' not found.\n",
            "WARNING:matplotlib.font_manager:findfont: Font family 'times' not found.\n",
            "WARNING:matplotlib.font_manager:findfont: Font family 'times' not found.\n",
            "WARNING:matplotlib.font_manager:findfont: Font family 'times' not found.\n",
            "WARNING:matplotlib.font_manager:findfont: Font family 'times' not found.\n",
            "WARNING:matplotlib.font_manager:findfont: Font family 'times' not found.\n",
            "WARNING:matplotlib.font_manager:findfont: Font family 'times' not found.\n",
            "WARNING:matplotlib.font_manager:findfont: Font family 'times' not found.\n",
            "WARNING:matplotlib.font_manager:findfont: Font family 'times' not found.\n",
            "WARNING:matplotlib.font_manager:findfont: Font family 'times' not found.\n",
            "WARNING:matplotlib.font_manager:findfont: Font family 'times' not found.\n",
            "WARNING:matplotlib.font_manager:findfont: Font family 'times' not found.\n",
            "WARNING:matplotlib.font_manager:findfont: Font family 'times' not found.\n",
            "WARNING:matplotlib.font_manager:findfont: Font family 'times' not found.\n",
            "WARNING:matplotlib.font_manager:findfont: Font family 'times' not found.\n",
            "WARNING:matplotlib.font_manager:findfont: Font family 'times' not found.\n",
            "WARNING:matplotlib.font_manager:findfont: Font family 'times' not found.\n",
            "WARNING:matplotlib.font_manager:findfont: Font family 'times' not found.\n",
            "WARNING:matplotlib.font_manager:findfont: Font family 'times' not found.\n",
            "WARNING:matplotlib.font_manager:findfont: Font family 'times' not found.\n",
            "WARNING:matplotlib.font_manager:findfont: Font family 'times' not found.\n",
            "WARNING:matplotlib.font_manager:findfont: Font family 'times' not found.\n",
            "WARNING:matplotlib.font_manager:findfont: Font family 'times' not found.\n",
            "WARNING:matplotlib.font_manager:findfont: Font family 'times' not found.\n",
            "WARNING:matplotlib.font_manager:findfont: Font family 'times' not found.\n",
            "WARNING:matplotlib.font_manager:findfont: Font family 'times' not found.\n",
            "WARNING:matplotlib.font_manager:findfont: Font family 'times' not found.\n",
            "WARNING:matplotlib.font_manager:findfont: Font family 'times' not found.\n",
            "WARNING:matplotlib.font_manager:findfont: Font family 'times' not found.\n",
            "WARNING:matplotlib.font_manager:findfont: Font family 'times' not found.\n",
            "WARNING:matplotlib.font_manager:findfont: Font family 'times' not found.\n",
            "WARNING:matplotlib.font_manager:findfont: Font family 'times' not found.\n",
            "WARNING:matplotlib.font_manager:findfont: Font family 'times' not found.\n",
            "WARNING:matplotlib.font_manager:findfont: Font family 'times' not found.\n",
            "WARNING:matplotlib.font_manager:findfont: Font family 'times' not found.\n",
            "WARNING:matplotlib.font_manager:findfont: Font family 'times' not found.\n",
            "WARNING:matplotlib.font_manager:findfont: Font family 'times' not found.\n",
            "WARNING:matplotlib.font_manager:findfont: Font family 'times' not found.\n",
            "WARNING:matplotlib.font_manager:findfont: Font family 'times' not found.\n",
            "WARNING:matplotlib.font_manager:findfont: Font family 'times' not found.\n",
            "WARNING:matplotlib.font_manager:findfont: Font family 'times' not found.\n",
            "WARNING:matplotlib.font_manager:findfont: Font family 'times' not found.\n",
            "WARNING:matplotlib.font_manager:findfont: Font family 'times' not found.\n",
            "WARNING:matplotlib.font_manager:findfont: Font family 'times' not found.\n",
            "WARNING:matplotlib.font_manager:findfont: Font family 'times' not found.\n",
            "WARNING:matplotlib.font_manager:findfont: Font family 'times' not found.\n",
            "WARNING:matplotlib.font_manager:findfont: Font family 'times' not found.\n",
            "WARNING:matplotlib.font_manager:findfont: Font family 'times' not found.\n",
            "WARNING:matplotlib.font_manager:findfont: Font family 'times' not found.\n",
            "WARNING:matplotlib.font_manager:findfont: Font family 'times' not found.\n",
            "WARNING:matplotlib.font_manager:findfont: Font family 'times' not found.\n",
            "WARNING:matplotlib.font_manager:findfont: Font family 'times' not found.\n",
            "WARNING:matplotlib.font_manager:findfont: Font family 'times' not found.\n",
            "WARNING:matplotlib.font_manager:findfont: Font family 'times' not found.\n",
            "WARNING:matplotlib.font_manager:findfont: Font family 'times' not found.\n",
            "WARNING:matplotlib.font_manager:findfont: Font family 'times' not found.\n"
          ]
        },
        {
          "output_type": "display_data",
          "data": {
            "text/plain": [
              "<Figure size 1200x300 with 1 Axes>"
            ],
            "image/png": "[encoded data removed]"
          },
          "metadata": {}
        }
      ],
      "source": [
        "fig, ax = plt.subplots(1, 1, figsize=(12, 3))\n",
        "plt.ylabel('Frequency')\n",
        "plt.xlabel('Sample mean value')\n",
        "plt.hist(m,\n",
        "         bins = 50,\n",
        "         density = True)\n",
        "ax.axvline(x = np.mean(m),\n",
        "           ymin = 0.0,\n",
        "           ymax = 1.0,\n",
        "           color = [1, 0, 0])"
      ]
    },
    {
      "cell_type": "markdown",
      "metadata": {
        "id": "Q4xeVjNFmyOT"
      },
      "source": [
        "The boostrapping method can be applied to other simple estimates such as\n",
        "the median or the variance:"
      ]
    },
    {
      "cell_type": "code",
      "execution_count": 16,
      "metadata": {
        "id": "_Yc9dSPpmyOT",
        "outputId": "97629cdc-e37a-4d1c-8e5a-c023e78beb75",
        "colab": {
          "base_uri": "https://localhost:8080/",
          "height": 1000
        }
      },
      "outputs": [
        {
          "output_type": "stream",
          "name": "stderr",
          "text": [
            "<ipython-input-16-40dbd5f03432>:5: FutureWarning: Series.__getitem__ treating keys as positions is deprecated. In a future version, integer keys will always be treated as labels (consistent with DataFrame behavior). To access a value by position, use `ser.iloc[pos]`\n",
            "  sample = [X[_] for _ in np.random.randint(len(X), size=len(X))]\n"
          ]
        },
        {
          "output_type": "stream",
          "name": "stdout",
          "text": [
            "Median estimate: 26.2965\n"
          ]
        },
        {
          "output_type": "execute_result",
          "data": {
            "text/plain": [
              "<matplotlib.lines.Line2D at 0x7cf9b25e04d0>"
            ]
          },
          "metadata": {},
          "execution_count": 16
        },
        {
          "output_type": "stream",
          "name": "stderr",
          "text": [
            "WARNING:matplotlib.font_manager:findfont: Font family 'times' not found.\n",
            "WARNING:matplotlib.font_manager:findfont: Font family 'times' not found.\n",
            "WARNING:matplotlib.font_manager:findfont: Font family 'times' not found.\n",
            "WARNING:matplotlib.font_manager:findfont: Font family 'times' not found.\n",
            "WARNING:matplotlib.font_manager:findfont: Font family 'times' not found.\n",
            "WARNING:matplotlib.font_manager:findfont: Font family 'times' not found.\n",
            "WARNING:matplotlib.font_manager:findfont: Font family 'times' not found.\n",
            "WARNING:matplotlib.font_manager:findfont: Font family 'times' not found.\n",
            "WARNING:matplotlib.font_manager:findfont: Font family 'times' not found.\n",
            "WARNING:matplotlib.font_manager:findfont: Font family 'times' not found.\n",
            "WARNING:matplotlib.font_manager:findfont: Font family 'times' not found.\n",
            "WARNING:matplotlib.font_manager:findfont: Font family 'times' not found.\n",
            "WARNING:matplotlib.font_manager:findfont: Font family 'times' not found.\n",
            "WARNING:matplotlib.font_manager:findfont: Font family 'times' not found.\n",
            "WARNING:matplotlib.font_manager:findfont: Font family 'times' not found.\n",
            "WARNING:matplotlib.font_manager:findfont: Font family 'times' not found.\n",
            "WARNING:matplotlib.font_manager:findfont: Font family 'times' not found.\n",
            "WARNING:matplotlib.font_manager:findfont: Font family 'times' not found.\n",
            "WARNING:matplotlib.font_manager:findfont: Font family 'times' not found.\n",
            "WARNING:matplotlib.font_manager:findfont: Font family 'times' not found.\n",
            "WARNING:matplotlib.font_manager:findfont: Font family 'times' not found.\n",
            "WARNING:matplotlib.font_manager:findfont: Font family 'times' not found.\n",
            "WARNING:matplotlib.font_manager:findfont: Font family 'times' not found.\n",
            "WARNING:matplotlib.font_manager:findfont: Font family 'times' not found.\n",
            "WARNING:matplotlib.font_manager:findfont: Font family 'times' not found.\n",
            "WARNING:matplotlib.font_manager:findfont: Font family 'times' not found.\n",
            "WARNING:matplotlib.font_manager:findfont: Font family 'times' not found.\n",
            "WARNING:matplotlib.font_manager:findfont: Font family 'times' not found.\n",
            "WARNING:matplotlib.font_manager:findfont: Font family 'times' not found.\n",
            "WARNING:matplotlib.font_manager:findfont: Font family 'times' not found.\n",
            "WARNING:matplotlib.font_manager:findfont: Font family 'times' not found.\n",
            "WARNING:matplotlib.font_manager:findfont: Font family 'times' not found.\n",
            "WARNING:matplotlib.font_manager:findfont: Font family 'times' not found.\n",
            "WARNING:matplotlib.font_manager:findfont: Font family 'times' not found.\n",
            "WARNING:matplotlib.font_manager:findfont: Font family 'times' not found.\n",
            "WARNING:matplotlib.font_manager:findfont: Font family 'times' not found.\n",
            "WARNING:matplotlib.font_manager:findfont: Font family 'times' not found.\n",
            "WARNING:matplotlib.font_manager:findfont: Font family 'times' not found.\n",
            "WARNING:matplotlib.font_manager:findfont: Font family 'times' not found.\n",
            "WARNING:matplotlib.font_manager:findfont: Font family 'times' not found.\n",
            "WARNING:matplotlib.font_manager:findfont: Font family 'times' not found.\n",
            "WARNING:matplotlib.font_manager:findfont: Font family 'times' not found.\n",
            "WARNING:matplotlib.font_manager:findfont: Font family 'times' not found.\n",
            "WARNING:matplotlib.font_manager:findfont: Font family 'times' not found.\n",
            "WARNING:matplotlib.font_manager:findfont: Font family 'times' not found.\n",
            "WARNING:matplotlib.font_manager:findfont: Font family 'times' not found.\n",
            "WARNING:matplotlib.font_manager:findfont: Font family 'times' not found.\n",
            "WARNING:matplotlib.font_manager:findfont: Font family 'times' not found.\n",
            "WARNING:matplotlib.font_manager:findfont: Font family 'times' not found.\n",
            "WARNING:matplotlib.font_manager:findfont: Font family 'times' not found.\n",
            "WARNING:matplotlib.font_manager:findfont: Font family 'times' not found.\n",
            "WARNING:matplotlib.font_manager:findfont: Font family 'times' not found.\n",
            "WARNING:matplotlib.font_manager:findfont: Font family 'times' not found.\n",
            "WARNING:matplotlib.font_manager:findfont: Font family 'times' not found.\n",
            "WARNING:matplotlib.font_manager:findfont: Font family 'times' not found.\n",
            "WARNING:matplotlib.font_manager:findfont: Font family 'times' not found.\n",
            "WARNING:matplotlib.font_manager:findfont: Font family 'times' not found.\n",
            "WARNING:matplotlib.font_manager:findfont: Font family 'times' not found.\n",
            "WARNING:matplotlib.font_manager:findfont: Font family 'times' not found.\n",
            "WARNING:matplotlib.font_manager:findfont: Font family 'times' not found.\n",
            "WARNING:matplotlib.font_manager:findfont: Font family 'times' not found.\n",
            "WARNING:matplotlib.font_manager:findfont: Font family 'times' not found.\n",
            "WARNING:matplotlib.font_manager:findfont: Font family 'times' not found.\n",
            "WARNING:matplotlib.font_manager:findfont: Font family 'times' not found.\n"
          ]
        },
        {
          "output_type": "display_data",
          "data": {
            "text/plain": [
              "<Figure size 1200x300 with 1 Axes>"
            ],
            "image/png": "[encoded data removed]"
          },
          "metadata": {}
        }
      ],
      "source": [
        "def medBootstrap(X,numberb):\n",
        "    import numpy as np\n",
        "    x = [0]*numberb\n",
        "    for i in range(numberb):\n",
        "        sample = [X[_] for _ in np.random.randint(len(X), size=len(X))]\n",
        "        x[i] = np.median(sample)\n",
        "    return x\n",
        "\n",
        "med = medBootstrap(accidents, 10000)\n",
        "print(\"Median estimate:\", np.mean(med) )\n",
        "fig, ax = plt.subplots(1, 1, figsize=(12, 3))\n",
        "plt.hist(med, bins=5, density=True)\n",
        "plt.ylabel('Frequency')\n",
        "plt.xlabel('Sample median value')\n",
        "ax.axvline(x = np.array(med).mean(),\n",
        "           ymin = 0,\n",
        "           ymax = 1.0,\n",
        "           color = [1, 0, 0])"
      ]
    },
    {
      "cell_type": "markdown",
      "metadata": {
        "id": "G2rK8uEvmyOV"
      },
      "source": [
        "## Confidence intervals.\n",
        "\n",
        "A point estimate provides a single plausible value for a parameter. However,\n",
        "as we have seen a point estimate is rarely perfect; usually there is some error\n",
        "in the estimate. That is why we have proposed to use the standard error as\n",
        "a measure of its variability.\n",
        "\n",
        "As an alternative, a next logical step would be to provide a **plausible range of\n",
        "values** for the parameter. A plausible range of values for the sample parameter\n",
        "is called a **confidence interval**.\n",
        "\n",
        "We will base the definition of confidence interval on two ideas:\n",
        "\n",
        "+ Our point estimate is the most plausible value of the parameter, so it makes sense to build the confidence interval around the point estimate.\n",
        "\n",
        "+ The plausability of a range of values can be defined from the sampling distribution of the estimate.\n",
        "\n",
        "In order to define an interval, we can make use of a well\n",
        "known result from probability that applies to normal distributions: roughly\n",
        "95% of the time our estimate will be within 1.96 standard errors of the true\n",
        "mean of the distribution."
      ]
    },
    {
      "cell_type": "code",
      "execution_count": 17,
      "metadata": {
        "id": "QBd3kXlzmyOW",
        "outputId": "bb35563d-49f6-4096-949f-caffa2aab007",
        "colab": {
          "base_uri": "https://localhost:8080/"
        }
      },
      "outputs": [
        {
          "output_type": "stream",
          "name": "stdout",
          "text": [
            "Confidence interval: [np.float64(24.975156065800284), np.float64(26.8440220163915)]\n"
          ]
        }
      ],
      "source": [
        "m = accidents.mean()\n",
        "se = accidents.std()/math.sqrt(len(accidents))\n",
        "ci = [m - se*1.96, m + se*1.96]\n",
        "print(\"Confidence interval:\", ci)"
      ]
    },
    {
      "cell_type": "markdown",
      "metadata": {
        "id": "jFxchBwjmyOX"
      },
      "source": [
        "This is how we would compute a 95% confidence interval of the sample mean by using bootstrapping:\n",
        "\n",
        "1. Repeat the following steps a large number $M$ of times:\n",
        "    + Draw $N$ observations with replacement from the original data to create a bootstrap sample or resample;\n",
        "    + Calculate the mean for the resample.\n",
        "2. Calculate the **mean** of your $M$ values of the sample statistic. This process gives you a “bootstrapped” estimate of the sample statistic.\n",
        "3. Calculate the **standard deviation** of your $M$ values of the sample statistic. This process gives you a “bootstrapped” estimate of the **SE** of the sample statistic.\n",
        "4. Obtain the 2.5th and 97.5th centiles of your $M$ values values of the sample statistic."
      ]
    },
    {
      "cell_type": "code",
      "execution_count": 18,
      "metadata": {
        "id": "DnBqpZMMmyOZ",
        "outputId": "0f04315f-9f4d-4d1a-94e3-05382c9f11bc",
        "colab": {
          "base_uri": "https://localhost:8080/"
        }
      },
      "outputs": [
        {
          "output_type": "stream",
          "name": "stderr",
          "text": [
            "<ipython-input-14-f7e4e2c83674>:5: FutureWarning: Series.__getitem__ treating keys as positions is deprecated. In a future version, integer keys will always be treated as labels (consistent with DataFrame behavior). To access a value by position, use `ser.iloc[pos]`\n",
            "  sample = [X[_] for _ in np.random.randint(len(X), size=len(X))]\n"
          ]
        },
        {
          "output_type": "stream",
          "name": "stdout",
          "text": [
            "Mean estimate: 25.905583835616437\n",
            "SE of the estimate: 0.48526774774588555\n",
            "Confidence interval: [np.float64(24.942465753424656), np.float64(26.86849315068493)]\n"
          ]
        }
      ],
      "source": [
        "m = meanBootstrap(accidents, 10000)\n",
        "sample_mean = np.mean(m)\n",
        "sample_se =  np.std(m)\n",
        "\n",
        "print(\"Mean estimate:\", sample_mean)\n",
        "print(\"SE of the estimate:\", sample_se)\n",
        "\n",
        "ci = [np.percentile(m,2.5), np.percentile(m,97.5)]\n",
        "print(\"Confidence interval:\", ci)"
      ]
    },
    {
      "cell_type": "markdown",
      "metadata": {
        "id": "Z2_AEKucmyOa"
      },
      "source": [
        "### Waht is the real meaning of CI?\n",
        "\n",
        "The real meaning of \"confidence\" is not evident and it must be understood\n",
        "from the point of view of the generating process.\n",
        "\n",
        "Suppose we take many (infinite) samples from a population and built a\n",
        "95% confidence interval from each sample. Then about 95% of those intervals\n",
        "would contain the actual parameter.\n",
        "\n",
        "This can be easily showed by simulating a large number of samples and checking how many intervals contain the true parameter:"
      ]
    },
    {
      "cell_type": "code",
      "execution_count": 19,
      "metadata": {
        "id": "Tsw2viCwmyOb",
        "outputId": "a1258d32-a44b-4760-9d82-61f8f1d1f5fd",
        "colab": {
          "base_uri": "https://localhost:8080/",
          "height": 1000
        }
      },
      "outputs": [
        {
          "output_type": "stream",
          "name": "stderr",
          "text": [
            "WARNING:matplotlib.font_manager:findfont: Font family 'times' not found.\n",
            "WARNING:matplotlib.font_manager:findfont: Font family 'times' not found.\n",
            "WARNING:matplotlib.font_manager:findfont: Font family 'times' not found.\n",
            "WARNING:matplotlib.font_manager:findfont: Font family 'times' not found.\n",
            "WARNING:matplotlib.font_manager:findfont: Font family 'times' not found.\n",
            "WARNING:matplotlib.font_manager:findfont: Font family 'times' not found.\n",
            "WARNING:matplotlib.font_manager:findfont: Font family 'times' not found.\n",
            "WARNING:matplotlib.font_manager:findfont: Font family 'times' not found.\n",
            "WARNING:matplotlib.font_manager:findfont: Font family 'times' not found.\n",
            "WARNING:matplotlib.font_manager:findfont: Font family 'times' not found.\n",
            "WARNING:matplotlib.font_manager:findfont: Font family 'times' not found.\n",
            "WARNING:matplotlib.font_manager:findfont: Font family 'times' not found.\n",
            "WARNING:matplotlib.font_manager:findfont: Font family 'times' not found.\n",
            "WARNING:matplotlib.font_manager:findfont: Font family 'times' not found.\n",
            "WARNING:matplotlib.font_manager:findfont: Font family 'times' not found.\n",
            "WARNING:matplotlib.font_manager:findfont: Font family 'times' not found.\n",
            "WARNING:matplotlib.font_manager:findfont: Font family 'times' not found.\n",
            "WARNING:matplotlib.font_manager:findfont: Font family 'times' not found.\n",
            "WARNING:matplotlib.font_manager:findfont: Font family 'times' not found.\n",
            "WARNING:matplotlib.font_manager:findfont: Font family 'times' not found.\n",
            "WARNING:matplotlib.font_manager:findfont: Font family 'times' not found.\n",
            "WARNING:matplotlib.font_manager:findfont: Font family 'times' not found.\n",
            "WARNING:matplotlib.font_manager:findfont: Font family 'times' not found.\n",
            "WARNING:matplotlib.font_manager:findfont: Font family 'times' not found.\n",
            "WARNING:matplotlib.font_manager:findfont: Font family 'times' not found.\n",
            "WARNING:matplotlib.font_manager:findfont: Font family 'times' not found.\n",
            "WARNING:matplotlib.font_manager:findfont: Font family 'times' not found.\n",
            "WARNING:matplotlib.font_manager:findfont: Font family 'times' not found.\n",
            "WARNING:matplotlib.font_manager:findfont: Font family 'times' not found.\n",
            "WARNING:matplotlib.font_manager:findfont: Font family 'times' not found.\n",
            "WARNING:matplotlib.font_manager:findfont: Font family 'times' not found.\n",
            "WARNING:matplotlib.font_manager:findfont: Font family 'times' not found.\n",
            "WARNING:matplotlib.font_manager:findfont: Font family 'times' not found.\n",
            "WARNING:matplotlib.font_manager:findfont: Font family 'times' not found.\n",
            "WARNING:matplotlib.font_manager:findfont: Font family 'times' not found.\n",
            "WARNING:matplotlib.font_manager:findfont: Font family 'times' not found.\n",
            "WARNING:matplotlib.font_manager:findfont: Font family 'times' not found.\n",
            "WARNING:matplotlib.font_manager:findfont: Font family 'times' not found.\n",
            "WARNING:matplotlib.font_manager:findfont: Font family 'times' not found.\n",
            "WARNING:matplotlib.font_manager:findfont: Font family 'times' not found.\n",
            "WARNING:matplotlib.font_manager:findfont: Font family 'times' not found.\n",
            "WARNING:matplotlib.font_manager:findfont: Font family 'times' not found.\n",
            "WARNING:matplotlib.font_manager:findfont: Font family 'times' not found.\n",
            "WARNING:matplotlib.font_manager:findfont: Font family 'times' not found.\n",
            "WARNING:matplotlib.font_manager:findfont: Font family 'times' not found.\n",
            "WARNING:matplotlib.font_manager:findfont: Font family 'times' not found.\n",
            "WARNING:matplotlib.font_manager:findfont: Font family 'times' not found.\n",
            "WARNING:matplotlib.font_manager:findfont: Font family 'times' not found.\n",
            "WARNING:matplotlib.font_manager:findfont: Font family 'times' not found.\n",
            "WARNING:matplotlib.font_manager:findfont: Font family 'times' not found.\n",
            "WARNING:matplotlib.font_manager:findfont: Font family 'times' not found.\n",
            "WARNING:matplotlib.font_manager:findfont: Font family 'times' not found.\n",
            "WARNING:matplotlib.font_manager:findfont: Font family 'times' not found.\n",
            "WARNING:matplotlib.font_manager:findfont: Font family 'times' not found.\n",
            "WARNING:matplotlib.font_manager:findfont: Font family 'times' not found.\n",
            "WARNING:matplotlib.font_manager:findfont: Font family 'times' not found.\n",
            "WARNING:matplotlib.font_manager:findfont: Font family 'times' not found.\n",
            "WARNING:matplotlib.font_manager:findfont: Font family 'times' not found.\n",
            "WARNING:matplotlib.font_manager:findfont: Font family 'times' not found.\n",
            "WARNING:matplotlib.font_manager:findfont: Font family 'times' not found.\n",
            "WARNING:matplotlib.font_manager:findfont: Font family 'times' not found.\n",
            "WARNING:matplotlib.font_manager:findfont: Font family 'times' not found.\n",
            "WARNING:matplotlib.font_manager:findfont: Font family 'times' not found.\n",
            "WARNING:matplotlib.font_manager:findfont: Font family 'times' not found.\n",
            "WARNING:matplotlib.font_manager:findfont: Font family 'times' not found.\n",
            "WARNING:matplotlib.font_manager:findfont: Font family 'times' not found.\n",
            "WARNING:matplotlib.font_manager:findfont: Font family 'times' not found.\n",
            "WARNING:matplotlib.font_manager:findfont: Font family 'times' not found.\n",
            "WARNING:matplotlib.font_manager:findfont: Font family 'times' not found.\n",
            "WARNING:matplotlib.font_manager:findfont: Font family 'times' not found.\n",
            "WARNING:matplotlib.font_manager:findfont: Font family 'times' not found.\n",
            "WARNING:matplotlib.font_manager:findfont: Font family 'times' not found.\n",
            "WARNING:matplotlib.font_manager:findfont: Font family 'times' not found.\n",
            "WARNING:matplotlib.font_manager:findfont: Font family 'times' not found.\n",
            "WARNING:matplotlib.font_manager:findfont: Font family 'times' not found.\n",
            "WARNING:matplotlib.font_manager:findfont: Font family 'times' not found.\n",
            "WARNING:matplotlib.font_manager:findfont: Font family 'times' not found.\n",
            "WARNING:matplotlib.font_manager:findfont: Font family 'times' not found.\n",
            "WARNING:matplotlib.font_manager:findfont: Font family 'times' not found.\n",
            "WARNING:matplotlib.font_manager:findfont: Font family 'times' not found.\n",
            "WARNING:matplotlib.font_manager:findfont: Font family 'times' not found.\n",
            "WARNING:matplotlib.font_manager:findfont: Font family 'times' not found.\n",
            "WARNING:matplotlib.font_manager:findfont: Font family 'times' not found.\n",
            "WARNING:matplotlib.font_manager:findfont: Font family 'times' not found.\n",
            "WARNING:matplotlib.font_manager:findfont: Font family 'times' not found.\n",
            "WARNING:matplotlib.font_manager:findfont: Font family 'times' not found.\n",
            "WARNING:matplotlib.font_manager:findfont: Font family 'times' not found.\n",
            "WARNING:matplotlib.font_manager:findfont: Font family 'times' not found.\n",
            "WARNING:matplotlib.font_manager:findfont: Font family 'times' not found.\n",
            "WARNING:matplotlib.font_manager:findfont: Font family 'times' not found.\n",
            "WARNING:matplotlib.font_manager:findfont: Font family 'times' not found.\n",
            "WARNING:matplotlib.font_manager:findfont: Font family 'times' not found.\n",
            "WARNING:matplotlib.font_manager:findfont: Font family 'times' not found.\n",
            "WARNING:matplotlib.font_manager:findfont: Font family 'times' not found.\n",
            "WARNING:matplotlib.font_manager:findfont: Font family 'times' not found.\n",
            "WARNING:matplotlib.font_manager:findfont: Font family 'times' not found.\n",
            "WARNING:matplotlib.font_manager:findfont: Font family 'times' not found.\n",
            "WARNING:matplotlib.font_manager:findfont: Font family 'times' not found.\n",
            "WARNING:matplotlib.font_manager:findfont: Font family 'times' not found.\n",
            "WARNING:matplotlib.font_manager:findfont: Font family 'times' not found.\n",
            "WARNING:matplotlib.font_manager:findfont: Font family 'times' not found.\n",
            "WARNING:matplotlib.font_manager:findfont: Font family 'times' not found.\n",
            "WARNING:matplotlib.font_manager:findfont: Font family 'times' not found.\n",
            "WARNING:matplotlib.font_manager:findfont: Font family 'times' not found.\n",
            "WARNING:matplotlib.font_manager:findfont: Font family 'times' not found.\n",
            "WARNING:matplotlib.font_manager:findfont: Font family 'times' not found.\n",
            "WARNING:matplotlib.font_manager:findfont: Font family 'times' not found.\n",
            "WARNING:matplotlib.font_manager:findfont: Font family 'times' not found.\n",
            "WARNING:matplotlib.font_manager:findfont: Font family 'times' not found.\n",
            "WARNING:matplotlib.font_manager:findfont: Font family 'times' not found.\n",
            "WARNING:matplotlib.font_manager:findfont: Font family 'times' not found.\n",
            "WARNING:matplotlib.font_manager:findfont: Font family 'times' not found.\n",
            "WARNING:matplotlib.font_manager:findfont: Font family 'times' not found.\n",
            "WARNING:matplotlib.font_manager:findfont: Font family 'times' not found.\n",
            "WARNING:matplotlib.font_manager:findfont: Font family 'times' not found.\n",
            "WARNING:matplotlib.font_manager:findfont: Font family 'times' not found.\n",
            "WARNING:matplotlib.font_manager:findfont: Font family 'times' not found.\n",
            "WARNING:matplotlib.font_manager:findfont: Font family 'times' not found.\n",
            "WARNING:matplotlib.font_manager:findfont: Font family 'times' not found.\n",
            "WARNING:matplotlib.font_manager:findfont: Font family 'times' not found.\n",
            "WARNING:matplotlib.font_manager:findfont: Font family 'times' not found.\n",
            "WARNING:matplotlib.font_manager:findfont: Font family 'times' not found.\n",
            "WARNING:matplotlib.font_manager:findfont: Font family 'times' not found.\n",
            "WARNING:matplotlib.font_manager:findfont: Font family 'times' not found.\n",
            "WARNING:matplotlib.font_manager:findfont: Font family 'times' not found.\n",
            "WARNING:matplotlib.font_manager:findfont: Font family 'times' not found.\n",
            "WARNING:matplotlib.font_manager:findfont: Font family 'times' not found.\n"
          ]
        },
        {
          "output_type": "display_data",
          "data": {
            "text/plain": [
              "<Figure size 1200x500 with 1 Axes>"
            ],
            "image/png": "[encoded data removed]"
          },
          "metadata": {}
        }
      ],
      "source": [
        "df = accidents\n",
        "\n",
        "n = 100                                               # number of observations\n",
        "N_test = 100                                          # number of samples with n observations\n",
        "means = np.array([0.0] * N_test)                      # samples' mean\n",
        "s = np.array([0.0] * N_test)                          # samples' std\n",
        "ci = np.array([[0.0,0.0]] * N_test)\n",
        "tm = df.mean()                                        # \"true\" mean\n",
        "\n",
        "for i in range(N_test):                               # sample generation and CI computation\n",
        "    rows = np.random.choice(df.index.values, n)\n",
        "    sampled_df = df.loc[rows]\n",
        "    means[i] = sampled_df.mean()\n",
        "    s[i] = sampled_df.std()\n",
        "    ci[i] = means[i] + np.array([-s[i] *1.96/np.sqrt(n), s[i]*1.96/np.sqrt(n)])\n",
        "\n",
        "out1 = ci[:,0] > tm                                   # CI that do not contain the \"true\" mean\n",
        "out2 = ci[:,1] < tm\n",
        "\n",
        "fig, ax = plt.subplots(1, 1, figsize=(12, 5))\n",
        "ind = np.arange(1, N_test+1)\n",
        "ax.axhline(y = tm,\n",
        "           xmin = 0,\n",
        "           xmax = N_test+1,\n",
        "           color = [0, 0, 0])\n",
        "ci = np.transpose(ci)\n",
        "ax.plot([ind,ind],\n",
        "        ci,\n",
        "        color = '0.75',\n",
        "        marker = '_',\n",
        "        ms = 0,\n",
        "        linewidth = 3)\n",
        "ax.plot([ind[out1],ind[out1]],\n",
        "        ci[:, out1],\n",
        "        color = [1, 0, 0, 0.8],\n",
        "        marker = '_',\n",
        "        ms = 0,\n",
        "        linewidth = 3)\n",
        "ax.plot([ind[out2],ind[out2]],\n",
        "        ci[:, out2],\n",
        "        color = [1, 0, 0, 0.8],\n",
        "        marker = '_',\n",
        "        ms = 0,\n",
        "        linewidth = 3)\n",
        "ax.plot(ind,\n",
        "        means,\n",
        "        color = [0, .8, .2, .8],\n",
        "        marker = '.',\n",
        "        ms = 10,\n",
        "        linestyle = '')\n",
        "ax.set_ylabel(\"Confidence interval for the samples' mean estimate\",\n",
        "              fontsize = 12)\n",
        "ax.set_xlabel('Samples (with %d observations). '  %n,\n",
        "              fontsize = 12)\n",
        "plt.savefig(\"confidence.png\",\n",
        "            dpi = 300,\n",
        "            bbox_inches = 'tight')\n",
        "plt.show()"
      ]
    },
    {
      "cell_type": "markdown",
      "metadata": {
        "id": "aIPsf3WHmyOd"
      },
      "source": [
        "## Hypothesis testing\n",
        "\n",
        "To give a measure of variability of our estimates is a way of producing a\n",
        "statistical proposition about the population, but not the only one. R.A.Fisher\n",
        "(1890-1962) proposed an alternative, known as *hypothesis testing*, that is\n",
        "based on the concept of *statistical significance*.\n",
        "\n",
        "Let's suppose that a deeper analysis of traffic accidents in Barcelona results\n",
        "in a difference between 2010 and 2013. Of course, the diference could be caused only by chance, because of the variability of both estimates. But it\n",
        "could also be the case that traffic conditions are very diferent in Barcelona\n",
        "during these two periods and, because of this, data from these two periods can\n",
        "be considered as belonging to two diferent populations. Then, the relevant\n",
        "question is: Are the observed effects real or not?\n",
        "\n",
        "The process of determining the statistical significance of an effect is called\n",
        "**hypothesis testing**. This process starts by simplifying the options into two\n",
        "competing hypotheses:\n",
        "\n",
        "+ $H_0$: The mean number of daily traffic accidents is the same in 2013 and 2010 (there is only one population, one true mean, and 2010 and 2013 are just different samples from the same population).\n",
        "\n",
        "+ $H_A$: The mean number of daily traffic accidents for 2010 and for 2013 is different (2010 and 2013 are two samples from two different populations).\n",
        "\n",
        "We call $H_0$ the *null hypothesis* and it represents a skeptical point of view:\n",
        "the effect we have observed is due to chance (due to the specific sample bias).\n",
        "\n",
        "$H_A$ is the *alternative hypothesis* and it represents the other point of view:\n",
        "the effect is real.\n",
        "\n",
        "The general rule of frequentist hypothesis testing is: We will not discard $H_0$\n",
        "(and hence we will not consider $H_A$) unless the observed effect is implausible\n",
        "under $H_0$."
      ]
    },
    {
      "cell_type": "markdown",
      "metadata": {
        "id": "O2Gnu9ulmyOe"
      },
      "source": [
        "### Testing hypotheses using confidence intervals.\n",
        "\n",
        "We can use the concept represented by confidence intervals to measure the\n",
        "plausibility of an hypothesis.\n",
        "\n",
        "We can illustrate the evaluation of the hypotheses setup by comparing the\n",
        "mean rate of traffic accidents in Barcelona during 2010 and 2013 using a point estimate from the 2013 sample:"
      ]
    },
    {
      "cell_type": "code",
      "execution_count": 24,
      "metadata": {
        "id": "5I22oMzpmyOg",
        "outputId": "c0c1aa0b-7ae0-435d-d23a-7e0fe522d887",
        "colab": {
          "base_uri": "https://localhost:8080/"
        }
      },
      "outputs": [
        {
          "output_type": "stream",
          "name": "stdout",
          "text": [
            "2010: Mean 24.81095890410959\n",
            "2013: Mean 25.90958904109589\n"
          ]
        }
      ],
      "source": [
        "# Load 2010 data\n",
        "data = pd.read_csv(\"ACCIDENTS_GU_BCN_2010.csv\", encoding='latin-1')\n",
        "data.columns = data.columns.str.strip()  # Clean column names\n",
        "# Create a new column which is the date\n",
        "data['Date'] = data['Day of the Month'].astype(str) + '-' + data['Month of the Year'].astype(str)\n",
        "counts2010 = data['Date'].value_counts()\n",
        "print('2010: Mean', counts2010.mean())\n",
        "\n",
        "# Load 2013 data\n",
        "data = pd.read_csv(\"ACCIDENTS_GU_BCN_2013.csv\", encoding='latin-1')\n",
        "data.columns = data.columns.str.strip()  # Clean column names\n",
        "# Create a new column which is the date\n",
        "data['Date'] = data['Day of the Month'].astype(str) + '-' + data['Month of the Year'].astype(str)\n",
        "counts2013 = data['Date'].value_counts()\n",
        "print('2013: Mean', counts2013.mean())"
      ]
    },
    {
      "cell_type": "markdown",
      "metadata": {
        "id": "1p0MGfPumyOh"
      },
      "source": [
        "This estimate suggests that during 2013 the mean rate of\n",
        "traffic accidents in Barcelona **was higher** than 2010. But is this effect statistically significant?\n",
        "\n",
        "Based on our sample, the 95% confidence interval for the mean rate of\n",
        "traffic accidents in Barcelona during 2013 can be calculated as:"
      ]
    },
    {
      "cell_type": "code",
      "execution_count": 25,
      "metadata": {
        "id": "c5Dl6eVrmyO6",
        "outputId": "eef116ef-18de-4368-8151-84b22bf9a20f",
        "colab": {
          "base_uri": "https://localhost:8080/"
        }
      },
      "outputs": [
        {
          "output_type": "stream",
          "name": "stdout",
          "text": [
            "2010 accident rate estimate: 24.81095890410959\n",
            "2013 accident rate estimate: 25.90958904109589\n",
            "CI for 2013: [np.float64(24.975156065800284), np.float64(26.8440220163915)]\n"
          ]
        }
      ],
      "source": [
        "n = len(counts2013)\n",
        "mean = counts2013.mean()\n",
        "s = counts2013.std()\n",
        "ci = [mean - s*1.96/np.sqrt(n),  mean + s*1.96/np.sqrt(n)]\n",
        "print('2010 accident rate estimate:', counts2010.mean())\n",
        "print('2013 accident rate estimate:', counts2013.mean())\n",
        "print('CI for 2013:',ci)"
      ]
    },
    {
      "cell_type": "markdown",
      "metadata": {
        "id": "LJ8mRevcmyO7"
      },
      "source": [
        "Because 2010 accident rate estimate does not fall in the range of plausible values of 2013, we say the\n",
        "alternative hypothesis cannot be discarted. That is, it can not be discarted that during 2013 the mean rate of traffic accidents in Barcelona was higher than during 2010."
      ]
    },
    {
      "cell_type": "markdown",
      "metadata": {
        "id": "_Cy4VZurmyO8"
      },
      "source": [
        "### Testing hypotheses using P-values.\n",
        "\n",
        "A more advanced notion of statistical significance was developed by R.A.Fisher\n",
        "in the 1920's when looking for a test to decide whether variation in crop yields\n",
        "were due to some specific intervention or merely randon factors beyond experimental control.\n",
        "Fisher first assumed that fertilizer caused no difference (null hypothesis)\n",
        "and then calculated $P$, the probability that an observed yield in a fertilized\n",
        "field would occur if fertilizer had no real effect. This probability is called\n",
        "p-value.\n",
        "\n",
        "The p-value is the probability of observing data at least as favorable to\n",
        "the alternative hypothesis as our current data set, if the null hypothesis is\n",
        "true.\n",
        "\n",
        "To apply a test of hypotheses to our problem, the first step is to quantify the size of the apparent effect by choosing a test statistic. In our case, the apparent effect is a difference in accident\n",
        "rates, so a natural choice for the test statistic is the difference in means\n",
        "between the two periods:"
      ]
    },
    {
      "cell_type": "code",
      "execution_count": 26,
      "metadata": {
        "id": "AbXonp1EmyO9",
        "outputId": "3652bba3-e9b0-4ffa-a40f-15fcbddf6a9e",
        "colab": {
          "base_uri": "https://localhost:8080/"
        }
      },
      "outputs": [
        {
          "output_type": "stream",
          "name": "stdout",
          "text": [
            "m: 365 n: 365\n",
            "mean difference:  1.0986301369863014\n"
          ]
        }
      ],
      "source": [
        "m = len(counts2010)\n",
        "n = len(counts2013)\n",
        "p = (counts2013.mean() - counts2010.mean())\n",
        "print('m:',m, 'n:', n)\n",
        "print('mean difference: ', p)"
      ]
    },
    {
      "cell_type": "markdown",
      "metadata": {
        "id": "Kn74kUwQmyO-"
      },
      "source": [
        "The second step is to define a null hypothesis, which is a model of the\n",
        "system based on the assumption that the apparent effect is not real. In\n",
        "our case the null hypothesis is that there is no diference between the two\n",
        "periods. The alternative hypothesis is that during 2013 the mean rate of traffic accidents in Barcelona was higher than 2010.\n",
        "\n",
        "The third step is to compute a p-value, which is the probability of seeing\n",
        "the apparent effect if the null hypothesis is true. In our case, we would\n",
        "compute the absolute difference in means, then compute the probability\n",
        "of seeing a difference as big, or bigger, under the null hypothesis.\n",
        "\n",
        "Usually, if P is less than 0.05 (the chance of a\n",
        "fluke is less than 5%) the\n",
        "result is declared statistically significant.\n",
        "\n",
        "To approximate the p-value, we can follow the following procedure:\n",
        "1. Pool the distributions, generate samples with size $n$ and compute the difference in the mean.\n",
        "2. Generate samples with size $n$ and compute the difference in the mean.\n",
        "3. Count how many differences are larger than the observed one"
      ]
    },
    {
      "cell_type": "code",
      "execution_count": 27,
      "metadata": {
        "id": "VmlJUOVYmyO-",
        "outputId": "9e4357d6-7da4-42a3-96dd-a5ad998a808b",
        "colab": {
          "base_uri": "https://localhost:8080/",
          "height": 1000
        }
      },
      "outputs": [
        {
          "output_type": "execute_result",
          "data": {
            "text/plain": [
              "Text(0.5, 1.0, 'Pooled distribution')"
            ]
          },
          "metadata": {},
          "execution_count": 27
        },
        {
          "output_type": "stream",
          "name": "stderr",
          "text": [
            "WARNING:matplotlib.font_manager:findfont: Font family 'times' not found.\n",
            "WARNING:matplotlib.font_manager:findfont: Font family 'times' not found.\n",
            "WARNING:matplotlib.font_manager:findfont: Font family 'times' not found.\n",
            "WARNING:matplotlib.font_manager:findfont: Font family 'times' not found.\n",
            "WARNING:matplotlib.font_manager:findfont: Font family 'times' not found.\n",
            "WARNING:matplotlib.font_manager:findfont: Font family 'times' not found.\n",
            "WARNING:matplotlib.font_manager:findfont: Font family 'times' not found.\n",
            "WARNING:matplotlib.font_manager:findfont: Font family 'times' not found.\n",
            "WARNING:matplotlib.font_manager:findfont: Font family 'times' not found.\n",
            "WARNING:matplotlib.font_manager:findfont: Font family 'times' not found.\n",
            "WARNING:matplotlib.font_manager:findfont: Font family 'times' not found.\n",
            "WARNING:matplotlib.font_manager:findfont: Font family 'times' not found.\n",
            "WARNING:matplotlib.font_manager:findfont: Font family 'times' not found.\n",
            "WARNING:matplotlib.font_manager:findfont: Font family 'times' not found.\n",
            "WARNING:matplotlib.font_manager:findfont: Font family 'times' not found.\n",
            "WARNING:matplotlib.font_manager:findfont: Font family 'times' not found.\n",
            "WARNING:matplotlib.font_manager:findfont: Font family 'times' not found.\n",
            "WARNING:matplotlib.font_manager:findfont: Font family 'times' not found.\n",
            "WARNING:matplotlib.font_manager:findfont: Font family 'times' not found.\n",
            "WARNING:matplotlib.font_manager:findfont: Font family 'times' not found.\n",
            "WARNING:matplotlib.font_manager:findfont: Font family 'times' not found.\n",
            "WARNING:matplotlib.font_manager:findfont: Font family 'times' not found.\n",
            "WARNING:matplotlib.font_manager:findfont: Font family 'times' not found.\n",
            "WARNING:matplotlib.font_manager:findfont: Font family 'times' not found.\n",
            "WARNING:matplotlib.font_manager:findfont: Font family 'times' not found.\n",
            "WARNING:matplotlib.font_manager:findfont: Font family 'times' not found.\n",
            "WARNING:matplotlib.font_manager:findfont: Font family 'times' not found.\n",
            "WARNING:matplotlib.font_manager:findfont: Font family 'times' not found.\n",
            "WARNING:matplotlib.font_manager:findfont: Font family 'times' not found.\n",
            "WARNING:matplotlib.font_manager:findfont: Font family 'times' not found.\n",
            "WARNING:matplotlib.font_manager:findfont: Font family 'times' not found.\n",
            "WARNING:matplotlib.font_manager:findfont: Font family 'times' not found.\n",
            "WARNING:matplotlib.font_manager:findfont: Font family 'times' not found.\n",
            "WARNING:matplotlib.font_manager:findfont: Font family 'times' not found.\n",
            "WARNING:matplotlib.font_manager:findfont: Font family 'times' not found.\n",
            "WARNING:matplotlib.font_manager:findfont: Font family 'times' not found.\n",
            "WARNING:matplotlib.font_manager:findfont: Font family 'times' not found.\n",
            "WARNING:matplotlib.font_manager:findfont: Font family 'times' not found.\n",
            "WARNING:matplotlib.font_manager:findfont: Font family 'times' not found.\n",
            "WARNING:matplotlib.font_manager:findfont: Font family 'times' not found.\n",
            "WARNING:matplotlib.font_manager:findfont: Font family 'times' not found.\n",
            "WARNING:matplotlib.font_manager:findfont: Font family 'times' not found.\n",
            "WARNING:matplotlib.font_manager:findfont: Font family 'times' not found.\n",
            "WARNING:matplotlib.font_manager:findfont: Font family 'times' not found.\n",
            "WARNING:matplotlib.font_manager:findfont: Font family 'times' not found.\n",
            "WARNING:matplotlib.font_manager:findfont: Font family 'times' not found.\n",
            "WARNING:matplotlib.font_manager:findfont: Font family 'times' not found.\n",
            "WARNING:matplotlib.font_manager:findfont: Font family 'times' not found.\n",
            "WARNING:matplotlib.font_manager:findfont: Font family 'times' not found.\n",
            "WARNING:matplotlib.font_manager:findfont: Font family 'times' not found.\n",
            "WARNING:matplotlib.font_manager:findfont: Font family 'times' not found.\n",
            "WARNING:matplotlib.font_manager:findfont: Font family 'times' not found.\n",
            "WARNING:matplotlib.font_manager:findfont: Font family 'times' not found.\n",
            "WARNING:matplotlib.font_manager:findfont: Font family 'times' not found.\n",
            "WARNING:matplotlib.font_manager:findfont: Font family 'times' not found.\n",
            "WARNING:matplotlib.font_manager:findfont: Font family 'times' not found.\n",
            "WARNING:matplotlib.font_manager:findfont: Font family 'times' not found.\n",
            "WARNING:matplotlib.font_manager:findfont: Font family 'times' not found.\n",
            "WARNING:matplotlib.font_manager:findfont: Font family 'times' not found.\n",
            "WARNING:matplotlib.font_manager:findfont: Font family 'times' not found.\n",
            "WARNING:matplotlib.font_manager:findfont: Font family 'times' not found.\n",
            "WARNING:matplotlib.font_manager:findfont: Font family 'times' not found.\n"
          ]
        },
        {
          "output_type": "display_data",
          "data": {
            "text/plain": [
              "<Figure size 1200x300 with 1 Axes>"
            ],
            "image/png": "[encoded data removed]"
          },
          "metadata": {}
        }
      ],
      "source": [
        "x = counts2010\n",
        "y = counts2013\n",
        "pool = np.concatenate([x,y])\n",
        "np.random.shuffle(pool)\n",
        "\n",
        "fig, ax = plt.subplots(1, 1, figsize=(12, 3))\n",
        "plt.hist(pool,\n",
        "         bins = 25,\n",
        "         density = True)\n",
        "plt.ylabel('Frequency')\n",
        "plt.xlabel('Number of accidents')\n",
        "plt.title(\"Pooled distribution\")"
      ]
    },
    {
      "cell_type": "code",
      "execution_count": 28,
      "metadata": {
        "id": "lb9GZEZJmyO_",
        "outputId": "4cb90b42-6c62-4658-9203-5931941d5eb0",
        "colab": {
          "base_uri": "https://localhost:8080/",
          "height": 1000
        }
      },
      "outputs": [
        {
          "output_type": "execute_result",
          "data": {
            "text/plain": [
              "Text(0.5, 0, 'Difference in the mean')"
            ]
          },
          "metadata": {},
          "execution_count": 28
        },
        {
          "output_type": "stream",
          "name": "stderr",
          "text": [
            "WARNING:matplotlib.font_manager:findfont: Font family 'times' not found.\n",
            "WARNING:matplotlib.font_manager:findfont: Font family 'times' not found.\n",
            "WARNING:matplotlib.font_manager:findfont: Font family 'times' not found.\n",
            "WARNING:matplotlib.font_manager:findfont: Font family 'times' not found.\n",
            "WARNING:matplotlib.font_manager:findfont: Font family 'times' not found.\n",
            "WARNING:matplotlib.font_manager:findfont: Font family 'times' not found.\n",
            "WARNING:matplotlib.font_manager:findfont: Font family 'times' not found.\n",
            "WARNING:matplotlib.font_manager:findfont: Font family 'times' not found.\n",
            "WARNING:matplotlib.font_manager:findfont: Font family 'times' not found.\n",
            "WARNING:matplotlib.font_manager:findfont: Font family 'times' not found.\n",
            "WARNING:matplotlib.font_manager:findfont: Font family 'times' not found.\n",
            "WARNING:matplotlib.font_manager:findfont: Font family 'times' not found.\n",
            "WARNING:matplotlib.font_manager:findfont: Font family 'times' not found.\n",
            "WARNING:matplotlib.font_manager:findfont: Font family 'times' not found.\n",
            "WARNING:matplotlib.font_manager:findfont: Font family 'times' not found.\n",
            "WARNING:matplotlib.font_manager:findfont: Font family 'times' not found.\n",
            "WARNING:matplotlib.font_manager:findfont: Font family 'times' not found.\n",
            "WARNING:matplotlib.font_manager:findfont: Font family 'times' not found.\n",
            "WARNING:matplotlib.font_manager:findfont: Font family 'times' not found.\n",
            "WARNING:matplotlib.font_manager:findfont: Font family 'times' not found.\n",
            "WARNING:matplotlib.font_manager:findfont: Font family 'times' not found.\n",
            "WARNING:matplotlib.font_manager:findfont: Font family 'times' not found.\n",
            "WARNING:matplotlib.font_manager:findfont: Font family 'times' not found.\n",
            "WARNING:matplotlib.font_manager:findfont: Font family 'times' not found.\n",
            "WARNING:matplotlib.font_manager:findfont: Font family 'times' not found.\n",
            "WARNING:matplotlib.font_manager:findfont: Font family 'times' not found.\n",
            "WARNING:matplotlib.font_manager:findfont: Font family 'times' not found.\n",
            "WARNING:matplotlib.font_manager:findfont: Font family 'times' not found.\n",
            "WARNING:matplotlib.font_manager:findfont: Font family 'times' not found.\n",
            "WARNING:matplotlib.font_manager:findfont: Font family 'times' not found.\n",
            "WARNING:matplotlib.font_manager:findfont: Font family 'times' not found.\n",
            "WARNING:matplotlib.font_manager:findfont: Font family 'times' not found.\n",
            "WARNING:matplotlib.font_manager:findfont: Font family 'times' not found.\n",
            "WARNING:matplotlib.font_manager:findfont: Font family 'times' not found.\n",
            "WARNING:matplotlib.font_manager:findfont: Font family 'times' not found.\n",
            "WARNING:matplotlib.font_manager:findfont: Font family 'times' not found.\n",
            "WARNING:matplotlib.font_manager:findfont: Font family 'times' not found.\n",
            "WARNING:matplotlib.font_manager:findfont: Font family 'times' not found.\n",
            "WARNING:matplotlib.font_manager:findfont: Font family 'times' not found.\n",
            "WARNING:matplotlib.font_manager:findfont: Font family 'times' not found.\n",
            "WARNING:matplotlib.font_manager:findfont: Font family 'times' not found.\n",
            "WARNING:matplotlib.font_manager:findfont: Font family 'times' not found.\n",
            "WARNING:matplotlib.font_manager:findfont: Font family 'times' not found.\n",
            "WARNING:matplotlib.font_manager:findfont: Font family 'times' not found.\n",
            "WARNING:matplotlib.font_manager:findfont: Font family 'times' not found.\n",
            "WARNING:matplotlib.font_manager:findfont: Font family 'times' not found.\n",
            "WARNING:matplotlib.font_manager:findfont: Font family 'times' not found.\n",
            "WARNING:matplotlib.font_manager:findfont: Font family 'times' not found.\n",
            "WARNING:matplotlib.font_manager:findfont: Font family 'times' not found.\n",
            "WARNING:matplotlib.font_manager:findfont: Font family 'times' not found.\n",
            "WARNING:matplotlib.font_manager:findfont: Font family 'times' not found.\n",
            "WARNING:matplotlib.font_manager:findfont: Font family 'times' not found.\n",
            "WARNING:matplotlib.font_manager:findfont: Font family 'times' not found.\n",
            "WARNING:matplotlib.font_manager:findfont: Font family 'times' not found.\n",
            "WARNING:matplotlib.font_manager:findfont: Font family 'times' not found.\n",
            "WARNING:matplotlib.font_manager:findfont: Font family 'times' not found.\n",
            "WARNING:matplotlib.font_manager:findfont: Font family 'times' not found.\n",
            "WARNING:matplotlib.font_manager:findfont: Font family 'times' not found.\n",
            "WARNING:matplotlib.font_manager:findfont: Font family 'times' not found.\n",
            "WARNING:matplotlib.font_manager:findfont: Font family 'times' not found.\n",
            "WARNING:matplotlib.font_manager:findfont: Font family 'times' not found.\n",
            "WARNING:matplotlib.font_manager:findfont: Font family 'times' not found.\n",
            "WARNING:matplotlib.font_manager:findfont: Font family 'times' not found.\n",
            "WARNING:matplotlib.font_manager:findfont: Font family 'times' not found.\n",
            "WARNING:matplotlib.font_manager:findfont: Font family 'times' not found.\n",
            "WARNING:matplotlib.font_manager:findfont: Font family 'times' not found.\n",
            "WARNING:matplotlib.font_manager:findfont: Font family 'times' not found.\n",
            "WARNING:matplotlib.font_manager:findfont: Font family 'times' not found.\n",
            "WARNING:matplotlib.font_manager:findfont: Font family 'times' not found.\n",
            "WARNING:matplotlib.font_manager:findfont: Font family 'times' not found.\n",
            "WARNING:matplotlib.font_manager:findfont: Font family 'times' not found.\n",
            "WARNING:matplotlib.font_manager:findfont: Font family 'times' not found.\n"
          ]
        },
        {
          "output_type": "display_data",
          "data": {
            "text/plain": [
              "<Figure size 1200x300 with 1 Axes>"
            ],
            "image/png": "[encoded data removed]"
          },
          "metadata": {}
        }
      ],
      "source": [
        "N = 10000 # number of samples\n",
        "diff = np.arange(N)\n",
        "for i in np.arange(N):\n",
        "    p1 = [random.choice(pool) for _ in np.arange(n)]\n",
        "    p2 = [random.choice(pool) for _ in np.arange(n)]\n",
        "    diff[i] = (np.mean(p1)-np.mean(p2))\n",
        "\n",
        "fig, ax = plt.subplots(1, 1, figsize=(12, 3))\n",
        "plt.hist(diff, bins = 50, density = True)\n",
        "plt.ylabel('Frequency')\n",
        "plt.xlabel('Difference in the mean')"
      ]
    },
    {
      "cell_type": "code",
      "execution_count": 29,
      "metadata": {
        "id": "ioEp2AnXmyPA",
        "outputId": "a61072e3-02e9-41c6-cbae-7b7600864341",
        "colab": {
          "base_uri": "https://localhost:8080/"
        }
      },
      "outputs": [
        {
          "output_type": "execute_result",
          "data": {
            "text/plain": [
              "12"
            ]
          },
          "metadata": {},
          "execution_count": 29
        }
      ],
      "source": [
        "# counting how many differences are larger than the observed one\n",
        "diff2 = np.array(diff)\n",
        "w1 = np.where(diff2 > p)[0]\n",
        "len(w1)"
      ]
    },
    {
      "cell_type": "markdown",
      "metadata": {
        "id": "tBEKhTv4myPC"
      },
      "source": [
        "If there are $k$ sample pairs where the difference in mean is as big as or bigger than 0.05, the p-value is approximately $k/N$. In or case:"
      ]
    },
    {
      "cell_type": "code",
      "execution_count": 30,
      "metadata": {
        "id": "6JHj7fBymyPD",
        "outputId": "d88a67e6-38e8-4781-8346-456e8e04fc32",
        "colab": {
          "base_uri": "https://localhost:8080/"
        }
      },
      "outputs": [
        {
          "output_type": "stream",
          "name": "stdout",
          "text": [
            "p-value (Simulation)= 0.0012 ( 0.12 %) Difference = 1.0986301369863014\n",
            "The effect is likely\n"
          ]
        }
      ],
      "source": [
        "print('p-value (Simulation)=', len(w1)/float(N), '(', len(w1)/float(N)*100 ,'%)', 'Difference =', p)\n",
        "if len(w1)/float(N)<0.05:\n",
        "    print('The effect is likely')\n",
        "else:\n",
        "    print('The effect is not likely')"
      ]
    },
    {
      "cell_type": "markdown",
      "metadata": {
        "id": "4LM6PC2AmyPE"
      },
      "source": [
        "We have defined the effect as a difference in mean as\n",
        "big or bigger than the observed difference, taking into account the sign. A test like this is called *one-sided*.\n",
        "\n",
        "If the relevant question is whether accident rates are different, then it\n",
        "makes sense to test the absolute difference in means. This kind of test is called *two-sided*\n",
        "because it  counts both sides of the distribution of differences."
      ]
    }
  ],
  "metadata": {
    "anaconda-cloud": {},
    "kernelspec": {
      "display_name": "Python 3 (ipykernel)",
      "language": "python",
      "name": "python3"
    },
    "language_info": {
      "codemirror_mode": {
        "name": "ipython",
        "version": 3
      },
      "file_extension": ".py",
      "mimetype": "text/x-python",
      "name": "python",
      "nbconvert_exporter": "python",
      "pygments_lexer": "ipython3",
      "version": "3.13.2"
    },
    "colab": {
      "provenance": [],
      "toc_visible": true
    }
  },
  "nbformat": 4,
  "nbformat_minor": 0
}