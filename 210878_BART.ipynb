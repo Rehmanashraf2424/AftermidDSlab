{
  "cells": [
    {
      "cell_type": "markdown",
      "id": "493aefa4",
      "metadata": {
        "id": "493aefa4"
      },
      "source": [
        "# Introduction"
      ]
    },
    {
      "cell_type": "markdown",
      "id": "c1e8dbe1",
      "metadata": {
        "id": "c1e8dbe1"
      },
      "source": [
        "### What is BERT? (Bidirectional Encoder Representations from Transformers)"
      ]
    },
    {
      "cell_type": "markdown",
      "id": "67a8517f",
      "metadata": {
        "id": "67a8517f"
      },
      "source": [
        "***BERT is a deep learning model developed by Google in 2018.***  \n",
        "  \n",
        "***It is based on the Transformer architecture.***  \n",
        "  \n",
        "***It reads entire sentences at once, from both left and right — this is called bidirectional.***\n",
        "\n",
        "For more information, the original paper can be found [here](https://arxiv.org/abs/1810.04805).\n",
        "\n",
        "[HuggingFace documentation](https://huggingface.co/transformers/model_doc/bert.html)\n",
        "\n",
        "[Bert documentation](https://characters.fandom.com/wiki/Bert_(Sesame_Street) ;)\n"
      ]
    },
    {
      "cell_type": "markdown",
      "id": "05d5163e",
      "metadata": {
        "id": "05d5163e"
      },
      "source": [
        "# Exploratory Data Analysis and Preprocessing"
      ]
    },
    {
      "cell_type": "markdown",
      "id": "c3386cb6",
      "metadata": {
        "id": "c3386cb6"
      },
      "source": [
        "We will use the SMILE Twitter dataset.\n",
        "\n",
        "_Wang, Bo; Tsakalidis, Adam; Liakata, Maria; Zubiaga, Arkaitz; Procter, Rob; Jensen, Eric (2016): SMILE Twitter Emotion dataset. figshare. Dataset. https://doi.org/10.6084/m9.figshare.3187909.v2_"
      ]
    },
    {
      "cell_type": "code",
      "execution_count": null,
      "id": "4b191d9e",
      "metadata": {
        "id": "4b191d9e"
      },
      "outputs": [],
      "source": [
        "import torch # Imports the PyTorch library which is a popular deep learning framework used for building and training neural networks.\n",
        "import pandas as pd\n",
        "from tqdm.notebook import tqdm\n",
        "pd.set_option('display.max_rows', None)"
      ]
    },
    {
      "cell_type": "code",
      "execution_count": null,
      "id": "fccf97c4",
      "metadata": {
        "id": "fccf97c4"
      },
      "outputs": [],
      "source": [
        "df = pd.read_csv('C://210878//Data Science Lab//smileannotationsfinal.csv', names=['id', 'text', 'category'])\n",
        "df.set_index('id', inplace=True)"
      ]
    },
    {
      "cell_type": "code",
      "execution_count": null,
      "id": "94f9a327",
      "metadata": {
        "id": "94f9a327",
        "outputId": "ca73d2c6-882a-4f29-d7de-34cee9fff292"
      },
      "outputs": [
        {
          "data": {
            "text/html": [
              "<div>\n",
              "<style scoped>\n",
              "    .dataframe tbody tr th:only-of-type {\n",
              "        vertical-align: middle;\n",
              "    }\n",
              "\n",
              "    .dataframe tbody tr th {\n",
              "        vertical-align: top;\n",
              "    }\n",
              "\n",
              "    .dataframe thead th {\n",
              "        text-align: right;\n",
              "    }\n",
              "</style>\n",
              "<table border=\"1\" class=\"dataframe\">\n",
              "  <thead>\n",
              "    <tr style=\"text-align: right;\">\n",
              "      <th></th>\n",
              "      <th>text</th>\n",
              "      <th>category</th>\n",
              "    </tr>\n",
              "    <tr>\n",
              "      <th>id</th>\n",
              "      <th></th>\n",
              "      <th></th>\n",
              "    </tr>\n",
              "  </thead>\n",
              "  <tbody>\n",
              "    <tr>\n",
              "      <th>611857364396965889</th>\n",
              "      <td>@aandraous @britishmuseum @AndrewsAntonio Merc...</td>\n",
              "      <td>nocode</td>\n",
              "    </tr>\n",
              "    <tr>\n",
              "      <th>614484565059596288</th>\n",
              "      <td>Dorian Gray with Rainbow Scarf #LoveWins (from...</td>\n",
              "      <td>happy</td>\n",
              "    </tr>\n",
              "    <tr>\n",
              "      <th>614746522043973632</th>\n",
              "      <td>@SelectShowcase @Tate_StIves ... Replace with ...</td>\n",
              "      <td>happy</td>\n",
              "    </tr>\n",
              "    <tr>\n",
              "      <th>614877582664835073</th>\n",
              "      <td>@Sofabsports thank you for following me back. ...</td>\n",
              "      <td>happy</td>\n",
              "    </tr>\n",
              "    <tr>\n",
              "      <th>611932373039644672</th>\n",
              "      <td>@britishmuseum @TudorHistory What a beautiful ...</td>\n",
              "      <td>happy</td>\n",
              "    </tr>\n",
              "  </tbody>\n",
              "</table>\n",
              "</div>"
            ],
            "text/plain": [
              "                                                                 text category\n",
              "id                                                                            \n",
              "611857364396965889  @aandraous @britishmuseum @AndrewsAntonio Merc...   nocode\n",
              "614484565059596288  Dorian Gray with Rainbow Scarf #LoveWins (from...    happy\n",
              "614746522043973632  @SelectShowcase @Tate_StIves ... Replace with ...    happy\n",
              "614877582664835073  @Sofabsports thank you for following me back. ...    happy\n",
              "611932373039644672  @britishmuseum @TudorHistory What a beautiful ...    happy"
            ]
          },
          "execution_count": 74,
          "metadata": {},
          "output_type": "execute_result"
        }
      ],
      "source": [
        "df.head()"
      ]
    },
    {
      "cell_type": "code",
      "execution_count": null,
      "id": "723219c7",
      "metadata": {
        "id": "723219c7",
        "outputId": "5e79ab92-97c4-4c19-c301-1c0bb771e149"
      },
      "outputs": [
        {
          "data": {
            "text/plain": [
              "category\n",
              "nocode               1572\n",
              "happy                1137\n",
              "not-relevant          214\n",
              "angry                  57\n",
              "surprise               35\n",
              "sad                    32\n",
              "happy|surprise         11\n",
              "happy|sad               9\n",
              "disgust|angry           7\n",
              "disgust                 6\n",
              "sad|disgust             2\n",
              "sad|angry               2\n",
              "sad|disgust|angry       1\n",
              "Name: count, dtype: int64"
            ]
          },
          "execution_count": 75,
          "metadata": {},
          "output_type": "execute_result"
        }
      ],
      "source": [
        "df.category.value_counts()"
      ]
    },
    {
      "cell_type": "code",
      "execution_count": null,
      "id": "0d101baa",
      "metadata": {
        "id": "0d101baa"
      },
      "outputs": [],
      "source": [
        "df = df[~df.category.str.contains('\\|')]"
      ]
    },
    {
      "cell_type": "code",
      "execution_count": null,
      "id": "2ac66407",
      "metadata": {
        "id": "2ac66407"
      },
      "outputs": [],
      "source": [
        "df = df[df.category != 'nocode']"
      ]
    },
    {
      "cell_type": "code",
      "execution_count": null,
      "id": "05ac9f1c",
      "metadata": {
        "id": "05ac9f1c",
        "outputId": "dda0d838-785d-44ef-b6c6-f01f2f6f8aed"
      },
      "outputs": [
        {
          "data": {
            "text/plain": [
              "category\n",
              "happy           1137\n",
              "not-relevant     214\n",
              "angry             57\n",
              "surprise          35\n",
              "sad               32\n",
              "disgust            6\n",
              "Name: count, dtype: int64"
            ]
          },
          "execution_count": 78,
          "metadata": {},
          "output_type": "execute_result"
        }
      ],
      "source": [
        "df.category.value_counts()"
      ]
    },
    {
      "cell_type": "code",
      "execution_count": null,
      "id": "07242d46",
      "metadata": {
        "id": "07242d46"
      },
      "outputs": [],
      "source": [
        "possible_labels = df.category.unique()"
      ]
    },
    {
      "cell_type": "code",
      "execution_count": null,
      "id": "5f73523f",
      "metadata": {
        "id": "5f73523f"
      },
      "outputs": [],
      "source": [
        "label_dict = {}\n",
        "for index, possible_label in enumerate(possible_labels):\n",
        "    label_dict[possible_label] = index"
      ]
    },
    {
      "cell_type": "code",
      "execution_count": null,
      "id": "572e2863",
      "metadata": {
        "id": "572e2863",
        "outputId": "71b979ba-33ec-4329-b213-eba3cb54aeb6"
      },
      "outputs": [
        {
          "name": "stderr",
          "output_type": "stream",
          "text": [
            "C:\\Users\\Sagheer\\AppData\\Local\\Temp\\ipykernel_560\\2696437164.py:1: FutureWarning: Downcasting behavior in `replace` is deprecated and will be removed in a future version. To retain the old behavior, explicitly call `result.infer_objects(copy=False)`. To opt-in to the future behavior, set `pd.set_option('future.no_silent_downcasting', True)`\n",
            "  df['label'] = df.category.replace(label_dict)\n"
          ]
        }
      ],
      "source": [
        "df['label'] = df.category.replace(label_dict)"
      ]
    },
    {
      "cell_type": "code",
      "execution_count": null,
      "id": "b0fd4f35",
      "metadata": {
        "id": "b0fd4f35",
        "outputId": "96ece9f3-52f0-4358-c839-72f38a198f3f"
      },
      "outputs": [
        {
          "data": {
            "text/html": [
              "<div>\n",
              "<style scoped>\n",
              "    .dataframe tbody tr th:only-of-type {\n",
              "        vertical-align: middle;\n",
              "    }\n",
              "\n",
              "    .dataframe tbody tr th {\n",
              "        vertical-align: top;\n",
              "    }\n",
              "\n",
              "    .dataframe thead th {\n",
              "        text-align: right;\n",
              "    }\n",
              "</style>\n",
              "<table border=\"1\" class=\"dataframe\">\n",
              "  <thead>\n",
              "    <tr style=\"text-align: right;\">\n",
              "      <th></th>\n",
              "      <th>text</th>\n",
              "      <th>category</th>\n",
              "      <th>label</th>\n",
              "    </tr>\n",
              "    <tr>\n",
              "      <th>id</th>\n",
              "      <th></th>\n",
              "      <th></th>\n",
              "      <th></th>\n",
              "    </tr>\n",
              "  </thead>\n",
              "  <tbody>\n",
              "    <tr>\n",
              "      <th>614484565059596288</th>\n",
              "      <td>Dorian Gray with Rainbow Scarf #LoveWins (from...</td>\n",
              "      <td>happy</td>\n",
              "      <td>0</td>\n",
              "    </tr>\n",
              "    <tr>\n",
              "      <th>614746522043973632</th>\n",
              "      <td>@SelectShowcase @Tate_StIves ... Replace with ...</td>\n",
              "      <td>happy</td>\n",
              "      <td>0</td>\n",
              "    </tr>\n",
              "    <tr>\n",
              "      <th>614877582664835073</th>\n",
              "      <td>@Sofabsports thank you for following me back. ...</td>\n",
              "      <td>happy</td>\n",
              "      <td>0</td>\n",
              "    </tr>\n",
              "    <tr>\n",
              "      <th>611932373039644672</th>\n",
              "      <td>@britishmuseum @TudorHistory What a beautiful ...</td>\n",
              "      <td>happy</td>\n",
              "      <td>0</td>\n",
              "    </tr>\n",
              "    <tr>\n",
              "      <th>611570404268883969</th>\n",
              "      <td>@NationalGallery @ThePoldarkian I have always ...</td>\n",
              "      <td>happy</td>\n",
              "      <td>0</td>\n",
              "    </tr>\n",
              "  </tbody>\n",
              "</table>\n",
              "</div>"
            ],
            "text/plain": [
              "                                                                 text  \\\n",
              "id                                                                      \n",
              "614484565059596288  Dorian Gray with Rainbow Scarf #LoveWins (from...   \n",
              "614746522043973632  @SelectShowcase @Tate_StIves ... Replace with ...   \n",
              "614877582664835073  @Sofabsports thank you for following me back. ...   \n",
              "611932373039644672  @britishmuseum @TudorHistory What a beautiful ...   \n",
              "611570404268883969  @NationalGallery @ThePoldarkian I have always ...   \n",
              "\n",
              "                   category  label  \n",
              "id                                  \n",
              "614484565059596288    happy      0  \n",
              "614746522043973632    happy      0  \n",
              "614877582664835073    happy      0  \n",
              "611932373039644672    happy      0  \n",
              "611570404268883969    happy      0  "
            ]
          },
          "execution_count": 82,
          "metadata": {},
          "output_type": "execute_result"
        }
      ],
      "source": [
        "df.head()"
      ]
    },
    {
      "cell_type": "markdown",
      "id": "21623ff0",
      "metadata": {
        "id": "21623ff0"
      },
      "source": [
        "# Training/Validation Split"
      ]
    },
    {
      "cell_type": "code",
      "execution_count": null,
      "id": "6d5c13a9",
      "metadata": {
        "id": "6d5c13a9"
      },
      "outputs": [],
      "source": [
        "from sklearn.model_selection import train_test_split"
      ]
    },
    {
      "cell_type": "code",
      "execution_count": null,
      "id": "7e1f3d47",
      "metadata": {
        "id": "7e1f3d47"
      },
      "outputs": [],
      "source": [
        "X_train, X_val, y_train, y_val = train_test_split(df.index.values,\n",
        "                                                  df.label.values,\n",
        "                                                  test_size=0.15,\n",
        "                                                  random_state=17,\n",
        "                                                  stratify=df.label.values)"
      ]
    },
    {
      "cell_type": "code",
      "execution_count": null,
      "id": "24a4d073",
      "metadata": {
        "id": "24a4d073"
      },
      "outputs": [],
      "source": [
        "df['data_type'] = ['not_set']*df.shape[0]"
      ]
    },
    {
      "cell_type": "code",
      "execution_count": null,
      "id": "71c6e70e-cc57-4af1-95ad-bbcdbe531ddf",
      "metadata": {
        "id": "71c6e70e-cc57-4af1-95ad-bbcdbe531ddf",
        "outputId": "3743983d-d4e0-424f-807d-3fbe22937c09"
      },
      "outputs": [
        {
          "data": {
            "text/html": [
              "<div>\n",
              "<style scoped>\n",
              "    .dataframe tbody tr th:only-of-type {\n",
              "        vertical-align: middle;\n",
              "    }\n",
              "\n",
              "    .dataframe tbody tr th {\n",
              "        vertical-align: top;\n",
              "    }\n",
              "\n",
              "    .dataframe thead th {\n",
              "        text-align: right;\n",
              "    }\n",
              "</style>\n",
              "<table border=\"1\" class=\"dataframe\">\n",
              "  <thead>\n",
              "    <tr style=\"text-align: right;\">\n",
              "      <th></th>\n",
              "      <th>text</th>\n",
              "      <th>category</th>\n",
              "      <th>label</th>\n",
              "      <th>data_type</th>\n",
              "    </tr>\n",
              "    <tr>\n",
              "      <th>id</th>\n",
              "      <th></th>\n",
              "      <th></th>\n",
              "      <th></th>\n",
              "      <th></th>\n",
              "    </tr>\n",
              "  </thead>\n",
              "  <tbody>\n",
              "    <tr>\n",
              "      <th>614484565059596288</th>\n",
              "      <td>Dorian Gray with Rainbow Scarf #LoveWins (from...</td>\n",
              "      <td>happy</td>\n",
              "      <td>0</td>\n",
              "      <td>not_set</td>\n",
              "    </tr>\n",
              "    <tr>\n",
              "      <th>614746522043973632</th>\n",
              "      <td>@SelectShowcase @Tate_StIves ... Replace with ...</td>\n",
              "      <td>happy</td>\n",
              "      <td>0</td>\n",
              "      <td>not_set</td>\n",
              "    </tr>\n",
              "    <tr>\n",
              "      <th>614877582664835073</th>\n",
              "      <td>@Sofabsports thank you for following me back. ...</td>\n",
              "      <td>happy</td>\n",
              "      <td>0</td>\n",
              "      <td>not_set</td>\n",
              "    </tr>\n",
              "    <tr>\n",
              "      <th>611932373039644672</th>\n",
              "      <td>@britishmuseum @TudorHistory What a beautiful ...</td>\n",
              "      <td>happy</td>\n",
              "      <td>0</td>\n",
              "      <td>not_set</td>\n",
              "    </tr>\n",
              "    <tr>\n",
              "      <th>611570404268883969</th>\n",
              "      <td>@NationalGallery @ThePoldarkian I have always ...</td>\n",
              "      <td>happy</td>\n",
              "      <td>0</td>\n",
              "      <td>not_set</td>\n",
              "    </tr>\n",
              "    <tr>\n",
              "      <th>...</th>\n",
              "      <td>...</td>\n",
              "      <td>...</td>\n",
              "      <td>...</td>\n",
              "      <td>...</td>\n",
              "    </tr>\n",
              "    <tr>\n",
              "      <th>611258135270060033</th>\n",
              "      <td>@_TheWhitechapel @Campaignforwool @SlowTextile...</td>\n",
              "      <td>not-relevant</td>\n",
              "      <td>1</td>\n",
              "      <td>not_set</td>\n",
              "    </tr>\n",
              "    <tr>\n",
              "      <th>612214539468279808</th>\n",
              "      <td>“@britishmuseum: Thanks for ranking us #1 in @...</td>\n",
              "      <td>happy</td>\n",
              "      <td>0</td>\n",
              "      <td>not_set</td>\n",
              "    </tr>\n",
              "    <tr>\n",
              "      <th>613678555935973376</th>\n",
              "      <td>MT @AliHaggett: Looking forward to our public ...</td>\n",
              "      <td>happy</td>\n",
              "      <td>0</td>\n",
              "      <td>not_set</td>\n",
              "    </tr>\n",
              "    <tr>\n",
              "      <th>615246897670922240</th>\n",
              "      <td>@MrStuchbery @britishmuseum Mesmerising.</td>\n",
              "      <td>happy</td>\n",
              "      <td>0</td>\n",
              "      <td>not_set</td>\n",
              "    </tr>\n",
              "    <tr>\n",
              "      <th>613016084371914753</th>\n",
              "      <td>@NationalGallery The 2nd GENOCIDE against #Bia...</td>\n",
              "      <td>not-relevant</td>\n",
              "      <td>1</td>\n",
              "      <td>not_set</td>\n",
              "    </tr>\n",
              "  </tbody>\n",
              "</table>\n",
              "<p>1481 rows × 4 columns</p>\n",
              "</div>"
            ],
            "text/plain": [
              "                                                                 text  \\\n",
              "id                                                                      \n",
              "614484565059596288  Dorian Gray with Rainbow Scarf #LoveWins (from...   \n",
              "614746522043973632  @SelectShowcase @Tate_StIves ... Replace with ...   \n",
              "614877582664835073  @Sofabsports thank you for following me back. ...   \n",
              "611932373039644672  @britishmuseum @TudorHistory What a beautiful ...   \n",
              "611570404268883969  @NationalGallery @ThePoldarkian I have always ...   \n",
              "...                                                               ...   \n",
              "611258135270060033  @_TheWhitechapel @Campaignforwool @SlowTextile...   \n",
              "612214539468279808  “@britishmuseum: Thanks for ranking us #1 in @...   \n",
              "613678555935973376  MT @AliHaggett: Looking forward to our public ...   \n",
              "615246897670922240           @MrStuchbery @britishmuseum Mesmerising.   \n",
              "613016084371914753  @NationalGallery The 2nd GENOCIDE against #Bia...   \n",
              "\n",
              "                        category  label data_type  \n",
              "id                                                 \n",
              "614484565059596288         happy      0   not_set  \n",
              "614746522043973632         happy      0   not_set  \n",
              "614877582664835073         happy      0   not_set  \n",
              "611932373039644672         happy      0   not_set  \n",
              "611570404268883969         happy      0   not_set  \n",
              "...                          ...    ...       ...  \n",
              "611258135270060033  not-relevant      1   not_set  \n",
              "612214539468279808         happy      0   not_set  \n",
              "613678555935973376         happy      0   not_set  \n",
              "615246897670922240         happy      0   not_set  \n",
              "613016084371914753  not-relevant      1   not_set  \n",
              "\n",
              "[1481 rows x 4 columns]"
            ]
          },
          "execution_count": 99,
          "metadata": {},
          "output_type": "execute_result"
        }
      ],
      "source": [
        "df"
      ]
    },
    {
      "cell_type": "code",
      "execution_count": null,
      "id": "61a058ff",
      "metadata": {
        "id": "61a058ff"
      },
      "outputs": [],
      "source": [
        "df.loc[X_train, 'data_type'] = 'train'\n",
        "df.loc[X_val, 'data_type'] = 'val'"
      ]
    },
    {
      "cell_type": "code",
      "execution_count": null,
      "id": "326891ac",
      "metadata": {
        "id": "326891ac",
        "outputId": "fe88d472-e446-4fc2-9f6f-7dded636327f"
      },
      "outputs": [
        {
          "data": {
            "text/html": [
              "<div>\n",
              "<style scoped>\n",
              "    .dataframe tbody tr th:only-of-type {\n",
              "        vertical-align: middle;\n",
              "    }\n",
              "\n",
              "    .dataframe tbody tr th {\n",
              "        vertical-align: top;\n",
              "    }\n",
              "\n",
              "    .dataframe thead th {\n",
              "        text-align: right;\n",
              "    }\n",
              "</style>\n",
              "<table border=\"1\" class=\"dataframe\">\n",
              "  <thead>\n",
              "    <tr style=\"text-align: right;\">\n",
              "      <th></th>\n",
              "      <th></th>\n",
              "      <th></th>\n",
              "      <th>text</th>\n",
              "    </tr>\n",
              "    <tr>\n",
              "      <th>category</th>\n",
              "      <th>label</th>\n",
              "      <th>data_type</th>\n",
              "      <th></th>\n",
              "    </tr>\n",
              "  </thead>\n",
              "  <tbody>\n",
              "    <tr>\n",
              "      <th rowspan=\"2\" valign=\"top\">angry</th>\n",
              "      <th rowspan=\"2\" valign=\"top\">2</th>\n",
              "      <th>train</th>\n",
              "      <td>48</td>\n",
              "    </tr>\n",
              "    <tr>\n",
              "      <th>val</th>\n",
              "      <td>9</td>\n",
              "    </tr>\n",
              "    <tr>\n",
              "      <th rowspan=\"2\" valign=\"top\">disgust</th>\n",
              "      <th rowspan=\"2\" valign=\"top\">3</th>\n",
              "      <th>train</th>\n",
              "      <td>5</td>\n",
              "    </tr>\n",
              "    <tr>\n",
              "      <th>val</th>\n",
              "      <td>1</td>\n",
              "    </tr>\n",
              "    <tr>\n",
              "      <th rowspan=\"2\" valign=\"top\">happy</th>\n",
              "      <th rowspan=\"2\" valign=\"top\">0</th>\n",
              "      <th>train</th>\n",
              "      <td>966</td>\n",
              "    </tr>\n",
              "    <tr>\n",
              "      <th>val</th>\n",
              "      <td>171</td>\n",
              "    </tr>\n",
              "    <tr>\n",
              "      <th rowspan=\"2\" valign=\"top\">not-relevant</th>\n",
              "      <th rowspan=\"2\" valign=\"top\">1</th>\n",
              "      <th>train</th>\n",
              "      <td>182</td>\n",
              "    </tr>\n",
              "    <tr>\n",
              "      <th>val</th>\n",
              "      <td>32</td>\n",
              "    </tr>\n",
              "    <tr>\n",
              "      <th rowspan=\"2\" valign=\"top\">sad</th>\n",
              "      <th rowspan=\"2\" valign=\"top\">4</th>\n",
              "      <th>train</th>\n",
              "      <td>27</td>\n",
              "    </tr>\n",
              "    <tr>\n",
              "      <th>val</th>\n",
              "      <td>5</td>\n",
              "    </tr>\n",
              "    <tr>\n",
              "      <th rowspan=\"2\" valign=\"top\">surprise</th>\n",
              "      <th rowspan=\"2\" valign=\"top\">5</th>\n",
              "      <th>train</th>\n",
              "      <td>30</td>\n",
              "    </tr>\n",
              "    <tr>\n",
              "      <th>val</th>\n",
              "      <td>5</td>\n",
              "    </tr>\n",
              "  </tbody>\n",
              "</table>\n",
              "</div>"
            ],
            "text/plain": [
              "                              text\n",
              "category     label data_type      \n",
              "angry        2     train        48\n",
              "                   val           9\n",
              "disgust      3     train         5\n",
              "                   val           1\n",
              "happy        0     train       966\n",
              "                   val         171\n",
              "not-relevant 1     train       182\n",
              "                   val          32\n",
              "sad          4     train        27\n",
              "                   val           5\n",
              "surprise     5     train        30\n",
              "                   val           5"
            ]
          },
          "execution_count": 44,
          "metadata": {},
          "output_type": "execute_result"
        }
      ],
      "source": [
        "df.groupby(['category', 'label', 'data_type']).count()"
      ]
    },
    {
      "cell_type": "markdown",
      "id": "c5dc3d3d",
      "metadata": {
        "id": "c5dc3d3d"
      },
      "source": [
        "# Loading Tokenizer and Encoding our Data"
      ]
    },
    {
      "cell_type": "code",
      "execution_count": null,
      "id": "da8fdb95",
      "metadata": {
        "id": "da8fdb95"
      },
      "outputs": [],
      "source": [
        "from transformers import BartTokenizer\n",
        "from torch.utils.data import TensorDataset\n"
      ]
    },
    {
      "cell_type": "code",
      "execution_count": null,
      "id": "a7d78de2",
      "metadata": {
        "id": "a7d78de2"
      },
      "outputs": [],
      "source": [
        "tokenizer = BartTokenizer.from_pretrained('facebook/bart-base')"
      ]
    },
    {
      "cell_type": "code",
      "execution_count": null,
      "id": "db25e3b2",
      "metadata": {
        "id": "db25e3b2",
        "outputId": "f01baf4c-87d1-4594-9def-0cd280f476a6"
      },
      "outputs": [
        {
          "name": "stderr",
          "output_type": "stream",
          "text": [
            "Truncation was not explicitly activated but `max_length` is provided a specific value, please use `truncation=True` to explicitly truncate examples to max length. Defaulting to 'longest_first' truncation strategy. If you encode pairs of sequences (GLUE-style) with the tokenizer you can select this strategy more precisely by providing a specific strategy to `truncation`.\n",
            "C:\\Users\\Sagheer\\anaconda3\\envs\\NLP\\lib\\site-packages\\transformers\\tokenization_utils_base.py:2700: FutureWarning: The `pad_to_max_length` argument is deprecated and will be removed in a future version, use `padding=True` or `padding='longest'` to pad to the longest sequence in the batch, or use `padding='max_length'` to pad to a max length. In this case, you can give a specific length with `max_length` (e.g. `max_length=45`) or leave max_length to None to pad to the maximal input size of the model (e.g. 512 for Bert).\n",
            "  warnings.warn(\n"
          ]
        }
      ],
      "source": [
        "encoded_data_train = tokenizer.batch_encode_plus(\n",
        "    df[df.data_type=='train'].text.values,\n",
        "    add_special_tokens=True,\n",
        "    return_attention_mask=True,\n",
        "    padding='max_length',  # 'pad_to_max_length' is deprecated in newer versions\n",
        "    max_length=256,\n",
        "    return_tensors='pt'\n",
        ")\n",
        "\n",
        "encoded_data_val = tokenizer.batch_encode_plus(\n",
        "    df[df.data_type=='val'].text.values,\n",
        "    add_special_tokens=True,\n",
        "    return_attention_mask=True,\n",
        "    padding='max_length',  # 'pad_to_max_length' is deprecated in newer versions\n",
        "    max_length=256,\n",
        "    return_tensors='pt'\n",
        ")\n",
        "\n",
        "# The rest remains similar\n",
        "input_ids_train = encoded_data_train['input_ids']\n",
        "attention_masks_train = encoded_data_train['attention_mask']\n",
        "labels_train = torch.tensor(df[df.data_type=='train'].label.values)\n",
        "\n",
        "input_ids_val = encoded_data_val['input_ids']\n",
        "attention_masks_val = encoded_data_val['attention_mask']\n",
        "labels_val = torch.tensor(df[df.data_type=='val'].label.values)\n"
      ]
    },
    {
      "cell_type": "code",
      "execution_count": null,
      "id": "d3119c70",
      "metadata": {
        "id": "d3119c70"
      },
      "outputs": [],
      "source": [
        "dataset_train = TensorDataset(input_ids_train, attention_masks_train, labels_train)\n",
        "dataset_val = TensorDataset(input_ids_val, attention_masks_val, labels_val)"
      ]
    },
    {
      "cell_type": "code",
      "execution_count": null,
      "id": "2a3df2ba",
      "metadata": {
        "id": "2a3df2ba",
        "outputId": "c80e9ef1-b17d-4cc1-d6a2-b669111cb76f"
      },
      "outputs": [
        {
          "data": {
            "text/plain": [
              "1258"
            ]
          },
          "execution_count": 49,
          "metadata": {},
          "output_type": "execute_result"
        }
      ],
      "source": [
        "len(dataset_train)"
      ]
    },
    {
      "cell_type": "code",
      "execution_count": null,
      "id": "a7a8fd0c",
      "metadata": {
        "id": "a7a8fd0c",
        "outputId": "0a9b840e-676e-48c1-9792-472394bb9a05"
      },
      "outputs": [
        {
          "data": {
            "text/plain": [
              "223"
            ]
          },
          "execution_count": 50,
          "metadata": {},
          "output_type": "execute_result"
        }
      ],
      "source": [
        "len(dataset_val)"
      ]
    },
    {
      "cell_type": "markdown",
      "id": "ba7e2fb2",
      "metadata": {
        "id": "ba7e2fb2"
      },
      "source": [
        "# Setting up BART Pretrained Model"
      ]
    },
    {
      "cell_type": "code",
      "execution_count": null,
      "id": "4de45d92",
      "metadata": {
        "id": "4de45d92"
      },
      "outputs": [],
      "source": [
        "from transformers import BartForSequenceClassification"
      ]
    },
    {
      "cell_type": "code",
      "execution_count": null,
      "id": "a79ea0e1",
      "metadata": {
        "id": "a79ea0e1",
        "outputId": "3aae88c1-9501-4ad9-ec6b-742e89e84797"
      },
      "outputs": [
        {
          "name": "stderr",
          "output_type": "stream",
          "text": [
            "Some weights of BertForSequenceClassification were not initialized from the model checkpoint at bert-base-uncased and are newly initialized: ['classifier.bias', 'classifier.weight']\n",
            "You should probably TRAIN this model on a down-stream task to be able to use it for predictions and inference.\n"
          ]
        }
      ],
      "source": [
        "model = BartForSequenceClassification.from_pretrained(\"facebook/bart-base\",\n",
        "                                                     num_labels=len(label_dict),\n",
        "                                                     output_attentions=False,\n",
        "                                                     output_hidden_states=False)"
      ]
    },
    {
      "cell_type": "markdown",
      "id": "3bca77c9-7093-44bc-8442-eb47c266649e",
      "metadata": {
        "id": "3bca77c9-7093-44bc-8442-eb47c266649e"
      },
      "source": [
        "# Creating Data Loaders"
      ]
    },
    {
      "cell_type": "code",
      "execution_count": null,
      "id": "4232e119",
      "metadata": {
        "id": "4232e119"
      },
      "outputs": [],
      "source": [
        "from torch.utils.data import DataLoader, RandomSampler, SequentialSampler"
      ]
    },
    {
      "cell_type": "code",
      "execution_count": null,
      "id": "534f7826",
      "metadata": {
        "id": "534f7826"
      },
      "outputs": [],
      "source": [
        "batch_size = 32\n",
        "\n",
        "dataloader_train = DataLoader(dataset_train,\n",
        "                              sampler=RandomSampler(dataset_train),\n",
        "                              batch_size=batch_size)\n",
        "\n",
        "dataloader_validation = DataLoader(dataset_val,\n",
        "                                   sampler=SequentialSampler(dataset_val),\n",
        "                                   batch_size=batch_size)"
      ]
    },
    {
      "cell_type": "markdown",
      "id": "74ca870b-8920-4b73-8141-cbf721cf9f0b",
      "metadata": {
        "id": "74ca870b-8920-4b73-8141-cbf721cf9f0b"
      },
      "source": [
        "# Setting Up Optimiser and Scheduler"
      ]
    },
    {
      "cell_type": "code",
      "execution_count": null,
      "id": "f732a28d",
      "metadata": {
        "id": "f732a28d"
      },
      "outputs": [],
      "source": [
        "from torch.optim import AdamW\n",
        "from transformers import get_linear_schedule_with_warmup"
      ]
    },
    {
      "cell_type": "code",
      "execution_count": null,
      "id": "b1552d29",
      "metadata": {
        "id": "b1552d29"
      },
      "outputs": [],
      "source": [
        "optimizer = AdamW(model.parameters(),\n",
        "                  lr=1e-5,\n",
        "                  eps=1e-8)"
      ]
    },
    {
      "cell_type": "code",
      "execution_count": null,
      "id": "3d1fe739",
      "metadata": {
        "id": "3d1fe739"
      },
      "outputs": [],
      "source": [
        "epochs = 3\n",
        "\n",
        "scheduler = get_linear_schedule_with_warmup(optimizer,\n",
        "                                            num_warmup_steps=0,\n",
        "                                            num_training_steps=len(dataloader_train)*epochs)"
      ]
    },
    {
      "cell_type": "markdown",
      "id": "d5c8165c-8233-4649-b8be-02be217c7d21",
      "metadata": {
        "id": "d5c8165c-8233-4649-b8be-02be217c7d21"
      },
      "source": [
        "# Defining our Performance Metrics"
      ]
    },
    {
      "cell_type": "code",
      "execution_count": null,
      "id": "d5bf8e32",
      "metadata": {
        "id": "d5bf8e32"
      },
      "outputs": [],
      "source": [
        "# Import necessary libraries\n",
        "import numpy as np  # NumPy for numerical operations\n",
        "from sklearn.metrics import f1_score  # Import the F1 score metric from scikit-learn"
      ]
    },
    {
      "cell_type": "code",
      "execution_count": null,
      "id": "94fc5efa",
      "metadata": {
        "id": "94fc5efa"
      },
      "outputs": [],
      "source": [
        "def f1_score_func(preds, labels):\n",
        "    \"\"\"\n",
        "    Calculate the weighted F1 score for multi-class classification.\n",
        "\n",
        "    Parameters:\n",
        "    -----------\n",
        "    preds : numpy.ndarray\n",
        "        Prediction probabilities array with shape (n_samples, n_classes)\n",
        "        where each row contains the probability scores for all classes\n",
        "\n",
        "    labels : numpy.ndarray\n",
        "        Ground truth labels with shape (n_samples,)\n",
        "\n",
        "    Returns:\n",
        "    --------\n",
        "    float\n",
        "        Weighted F1 score\n",
        "    \"\"\"\n",
        "    # Convert prediction probabilities to class indices by taking argmax along class dimension\n",
        "    # and flatten the result to a 1D array\n",
        "    preds_flat = np.argmax(preds, axis=1).flatten()\n",
        "\n",
        "    # Flatten the ground truth labels to ensure they're in the same format as predictions\n",
        "    labels_flat = labels.flatten()\n",
        "\n",
        "    # Calculate and return the weighted F1 score\n",
        "    # 'weighted' averages the F1 scores for each class, weighted by the number of true instances of each class\n",
        "    return f1_score(labels_flat, preds_flat, average='weighted')"
      ]
    },
    {
      "cell_type": "code",
      "execution_count": null,
      "id": "c8df2a6c",
      "metadata": {
        "id": "c8df2a6c"
      },
      "outputs": [],
      "source": [
        "def accuracy_per_class(preds, labels):\n",
        "    \"\"\"\n",
        "    Calculate and print the accuracy for each class separately.\n",
        "\n",
        "    Parameters:\n",
        "    -----------\n",
        "    preds : numpy.ndarray\n",
        "        Prediction probabilities array with shape (n_samples, n_classes)\n",
        "        where each row contains the probability scores for all classes\n",
        "\n",
        "    labels : numpy.ndarray\n",
        "        Ground truth labels with shape (n_samples,)\n",
        "\n",
        "    Note:\n",
        "    -----\n",
        "    This function assumes a global 'label_dict' exists that maps\n",
        "    class indices to human-readable class names.\n",
        "    \"\"\"\n",
        "    # Create an inverse mapping from numeric label indices to human-readable class names\n",
        "    # This reverses the label_dict mapping for displaying class names in the output\n",
        "    label_dict_inverse = {v: k for k, v in label_dict.items()}\n",
        "\n",
        "    # Convert prediction probabilities to class indices by taking argmax along class dimension\n",
        "    # and flatten the result to a 1D array\n",
        "    preds_flat = np.argmax(preds, axis=1).flatten()\n",
        "\n",
        "    # Flatten the ground truth labels to ensure they're in the same format as predictions\n",
        "    labels_flat = labels.flatten()\n",
        "\n",
        "    # Iterate through each unique class label in the ground truth\n",
        "    for label in np.unique(labels_flat):\n",
        "        # Extract predictions for samples that actually belong to the current class\n",
        "        y_preds = preds_flat[labels_flat==label]\n",
        "\n",
        "        # Extract ground truth labels for samples that belong to the current class\n",
        "        # (this will be all the same value, equal to 'label')\n",
        "        y_true = labels_flat[labels_flat==label]\n",
        "\n",
        "        # Print the human-readable class name\n",
        "        print(f'Class: {label_dict_inverse[label]}')\n",
        "\n",
        "        # Print the accuracy for this class:\n",
        "        # - Count correct predictions (where predicted label equals the true label)\n",
        "        # - Divide by total number of samples in this class\n",
        "        # - Format as a fraction (correct/total)\n",
        "        print(f'Accuracy: {len(y_preds[y_preds==label])}/{len(y_true)}\\n')"
      ]
    },
    {
      "cell_type": "markdown",
      "id": "a615e3d8-8ce5-488f-af54-d2f3839d2ae6",
      "metadata": {
        "id": "a615e3d8-8ce5-488f-af54-d2f3839d2ae6"
      },
      "source": [
        "# Creating our Training Loop"
      ]
    },
    {
      "cell_type": "code",
      "execution_count": null,
      "id": "a27ff345",
      "metadata": {
        "id": "a27ff345"
      },
      "outputs": [],
      "source": [
        "import random  # Import Python's random module for basic random number generation\n",
        "\n",
        "# Set a specific seed value for reproducibility across runs\n",
        "seed_val = 17\n",
        "\n",
        "# Set seed for Python's built-in random module\n",
        "# This affects functions like random.random(), random.choice(), etc.\n",
        "random.seed(seed_val)\n",
        "\n",
        "# Set seed for NumPy's random number generator\n",
        "# This affects functions like np.random.rand(), np.random.shuffle(), etc.\n",
        "np.random.seed(seed_val)\n",
        "\n",
        "# Set seed for PyTorch's CPU random number generator\n",
        "# This affects random operations in PyTorch when running on CPU\n",
        "torch.manual_seed(seed_val)\n",
        "\n",
        "# Set seed for PyTorch's GPU random number generator on all available GPUs\n",
        "# This ensures reproducibility when running on GPU\n",
        "# It's safe to call this even if no GPU is available\n",
        "torch.cuda.manual_seed_all(seed_val)"
      ]
    },
    {
      "cell_type": "code",
      "execution_count": null,
      "id": "3332b11d",
      "metadata": {
        "id": "3332b11d",
        "outputId": "d0bbee53-1f88-49c5-b186-8b3cce5b309c"
      },
      "outputs": [
        {
          "name": "stdout",
          "output_type": "stream",
          "text": [
            "cpu\n"
          ]
        }
      ],
      "source": [
        "# Determine which device (GPU or CPU) to use for training\n",
        "# If a CUDA-compatible GPU is available, use it; otherwise fall back to CPU\n",
        "device = torch.device('cuda' if torch.cuda.is_available() else 'cpu')\n",
        "\n",
        "# Move the model to the selected device (GPU or CPU)\n",
        "# This transfers all model parameters (weights and biases) to the appropriate device\n",
        "# For large models, this can significantly speed up training when using GPU\n",
        "model.to(device)\n",
        "\n",
        "# Print the selected device to confirm where computation will occur\n",
        "# Will output either \"cuda\" (for GPU) or \"cpu\"\n",
        "print(device)"
      ]
    },
    {
      "cell_type": "code",
      "execution_count": null,
      "id": "2a4af67b-c05f-47c1-b4f8-7f171ff4a989",
      "metadata": {
        "id": "2a4af67b-c05f-47c1-b4f8-7f171ff4a989"
      },
      "outputs": [],
      "source": [
        "def evaluate(dataloader_val):\n",
        "    \"\"\"\n",
        "    Evaluate the model on validation/test data.\n",
        "\n",
        "    Parameters:\n",
        "    -----------\n",
        "    dataloader_val : torch.utils.data.DataLoader\n",
        "        DataLoader containing validation/test batches\n",
        "\n",
        "    Returns:\n",
        "    --------\n",
        "    tuple\n",
        "        (average_loss, predictions, true_labels)\n",
        "        where predictions and true_labels are numpy arrays\n",
        "    \"\"\"\n",
        "    # Set the model to evaluation mode\n",
        "    # This disables dropout, batch normalization updates, etc.\n",
        "    model.eval()\n",
        "\n",
        "    # Initialize total validation loss\n",
        "    loss_val_total = 0\n",
        "\n",
        "    # Lists to store predictions and true labels for all batches\n",
        "    predictions, true_vals = [], []\n",
        "\n",
        "    # Iterate over all batches in the validation dataloader\n",
        "    for batch in dataloader_val:\n",
        "\n",
        "        # Move each tensor in the batch to the specified device (GPU/CPU)\n",
        "        # This unpacks the batch tuple and moves each component to the device\n",
        "        batch = tuple(b.to(device) for b in batch)\n",
        "\n",
        "        # Create inputs dictionary expected by the model\n",
        "        # Typical structure for transformer models (e.g., BERT, RoBERTa)\n",
        "        inputs = {'input_ids':      batch[0],  # Token IDs\n",
        "                  'attention_mask': batch[1],  # Attention mask for padding\n",
        "                  'labels':         batch[2],  # Ground truth labels\n",
        "                 }\n",
        "\n",
        "        # Disable gradient calculation for evaluation to save memory and computation\n",
        "        with torch.no_grad():\n",
        "            # Forward pass through the model\n",
        "            # The ** operator unpacks the dictionary as keyword arguments\n",
        "            outputs = model(**inputs)\n",
        "\n",
        "        # Extract loss and logits from model outputs\n",
        "        # Structure depends on model configuration, but typically:\n",
        "        # outputs[0] = loss, outputs[1] = logits\n",
        "        loss = outputs[0]\n",
        "        logits = outputs[1]\n",
        "\n",
        "        # Accumulate the validation loss\n",
        "        loss_val_total += loss.item()\n",
        "\n",
        "        # Process logits:\n",
        "        # 1. Detach from computation graph\n",
        "        # 2. Move to CPU\n",
        "        # 3. Convert to NumPy array for further processing\n",
        "        logits = logits.detach().cpu().numpy()\n",
        "\n",
        "        # Similarly convert labels to NumPy array\n",
        "        label_ids = inputs['labels'].cpu().numpy()\n",
        "\n",
        "        # Store batch predictions and true labels\n",
        "        predictions.append(logits)\n",
        "        true_vals.append(label_ids)\n",
        "\n",
        "    # Calculate average validation loss\n",
        "    loss_val_avg = loss_val_total/len(dataloader_val)\n",
        "\n",
        "    # Concatenate all batch predictions into a single array\n",
        "    # axis=0 concatenates along the batch dimension\n",
        "    predictions = np.concatenate(predictions, axis=0)\n",
        "\n",
        "    # Concatenate all batch true labels into a single array\n",
        "    true_vals = np.concatenate(true_vals, axis=0)\n",
        "\n",
        "    # Return average loss, predictions, and true labels\n",
        "    return loss_val_avg, predictions, true_vals"
      ]
    },
    {
      "cell_type": "code",
      "execution_count": null,
      "id": "7fe85ecb-7b94-4bb0-a1fd-13606ea2efe8",
      "metadata": {
        "colab": {
          "referenced_widgets": [
            "1184ac0d22054441a7f8541fb9c71b97",
            "71b6396e377a44a9a263f85acf1b27ff"
          ]
        },
        "id": "7fe85ecb-7b94-4bb0-a1fd-13606ea2efe8",
        "outputId": "6869eebd-98e1-4e1a-957a-cd49578dd40f"
      },
      "outputs": [
        {
          "data": {
            "application/vnd.jupyter.widget-view+json": {
              "model_id": "1184ac0d22054441a7f8541fb9c71b97",
              "version_major": 2,
              "version_minor": 0
            },
            "text/plain": [
              "  0%|          | 0/3 [00:00<?, ?it/s]"
            ]
          },
          "metadata": {},
          "output_type": "display_data"
        },
        {
          "data": {
            "application/vnd.jupyter.widget-view+json": {
              "model_id": "71b6396e377a44a9a263f85acf1b27ff",
              "version_major": 2,
              "version_minor": 0
            },
            "text/plain": [
              "Epoch 1:   0%|          | 0/40 [00:00<?, ?it/s]"
            ]
          },
          "metadata": {},
          "output_type": "display_data"
        },
        {
          "name": "stderr",
          "output_type": "stream",
          "text": [
            "\n",
            "KeyboardInterrupt\n",
            "\n"
          ]
        }
      ],
      "source": [
        "# Iterate through training epochs with progress tracking via tqdm\n",
        "for epoch in tqdm(range(1, epochs+1)):\n",
        "\n",
        "    # Set model to training mode\n",
        "    # This enables dropout, batch normalization updates, etc.\n",
        "    model.train()\n",
        "\n",
        "    # Initialize total training loss for this epoch\n",
        "    loss_train_total = 0\n",
        "\n",
        "    # Create a progress bar for batches within this epoch\n",
        "    # - desc: Shows which epoch we're on\n",
        "    # - leave=False: Removes the progress bar when the epoch finishes\n",
        "    # - disable=False: Ensures the progress bar is displayed\n",
        "    progress_bar = tqdm(dataloader_train, desc='Epoch {:1d}'.format(epoch), leave=False, disable=False)\n",
        "\n",
        "    # Iterate through each batch in the training dataloader\n",
        "    for batch in progress_bar:\n",
        "\n",
        "        # Reset gradients from previous batch\n",
        "        # This prevents gradient accumulation between batches\n",
        "        model.zero_grad()\n",
        "\n",
        "        # Move each tensor in the batch to the specified device (GPU/CPU)\n",
        "        batch = tuple(b.to(device) for b in batch)\n",
        "\n",
        "        # Create inputs dictionary expected by the model\n",
        "        # Typical structure for transformer models (e.g., BERT, RoBERTa)\n",
        "        inputs = {'input_ids':      batch[0],  # Token IDs\n",
        "                  'attention_mask': batch[1],  # Attention mask for padding\n",
        "                  'labels':         batch[2],  # Ground truth labels\n",
        "                 }\n",
        "\n",
        "        # Forward pass through the model\n",
        "        # The ** operator unpacks the dictionary as keyword arguments\n",
        "        outputs = model(**inputs)\n",
        "\n",
        "        # Extract loss from model outputs (typically the first element)\n",
        "        loss = outputs[0]\n",
        "\n",
        "        # Accumulate the training loss for reporting\n",
        "        loss_train_total += loss.item()\n",
        "\n",
        "        # Backward pass: compute gradients of the loss with respect to model parameters\n",
        "        loss.backward()\n",
        "\n",
        "        # Apply gradient clipping to prevent exploding gradients\n",
        "        # Max norm of 1.0 ensures gradients don't get too large\n",
        "        torch.nn.utils.clip_grad_norm_(model.parameters(), 1.0)\n",
        "\n",
        "        # Update model parameters based on computed gradients\n",
        "        optimizer.step()\n",
        "\n",
        "        # Update learning rate scheduler\n",
        "        # This could be a linear scheduler, cosine scheduler, etc.\n",
        "        scheduler.step()\n",
        "\n",
        "        # Update progress bar with the current batch loss\n",
        "        # Normalizing by batch size to make it comparable across different batch sizes\n",
        "        progress_bar.set_postfix({'training_loss': '{:.3f}'.format(loss.item()/len(batch))})\n",
        "\n",
        "\n",
        "    # Save model checkpoint at the end of each epoch\n",
        "    # This allows for recovery in case of interruption and selection of best model later\n",
        "    torch.save(model.state_dict(), f'finetuned_BERT_epoch_{epoch}.model')\n",
        "\n",
        "    # Print epoch number to the console\n",
        "    tqdm.write(f'\\nEpoch {epoch}')\n",
        "\n",
        "    # Calculate and display average training loss for this epoch\n",
        "    loss_train_avg = loss_train_total/len(dataloader_train)\n",
        "    tqdm.write(f'Training loss: {loss_train_avg}')\n",
        "\n",
        "    # Evaluate the model on validation data\n",
        "    val_loss, predictions, true_vals = evaluate(dataloader_validation)\n",
        "\n",
        "    # Calculate F1 score on validation data\n",
        "    # This is a key metric for classification tasks, especially with imbalanced classes\n",
        "    val_f1 = f1_score_func(predictions, true_vals)\n",
        "\n",
        "    # Print validation metrics\n",
        "    tqdm.write(f'Validation loss: {val_loss}')\n",
        "    tqdm.write(f'F1 Score (Weighted): {val_f1}')"
      ]
    },
    {
      "cell_type": "code",
      "execution_count": null,
      "id": "8089c147-03fc-44bf-b9fb-9a2726678253",
      "metadata": {
        "id": "8089c147-03fc-44bf-b9fb-9a2726678253"
      },
      "outputs": [],
      "source": [
        "# Initialize a BART model for sequence classification\n",
        "# - This creates a model with a BART encoder-decoder and a classification head on top\n",
        "model = BartForSequenceClassification.from_pretrained(\n",
        "    \"facebook/bart-base\",  # Load the pre-trained BART base model\n",
        "                          # Unlike BERT, BART preserves case by default\n",
        "\n",
        "    num_labels=len(label_dict),  # Set the number of output classes based on our label dictionary\n",
        "                                # This configures the classification head appropriately\n",
        "\n",
        "    output_attentions=False,    # Don't return attention weights in the output\n",
        "                               # Setting to False saves memory and computation\n",
        "\n",
        "    output_hidden_states=False  # Don't return all hidden-states in the output\n",
        "                               # Setting to False saves memory and computation\n",
        ")\n",
        "\n",
        "# Move the model to the appropriate device (GPU if available, otherwise CPU)\n",
        "# This transfers all model parameters to the device's memory\n",
        "model.to(device)"
      ]
    },
    {
      "cell_type": "code",
      "execution_count": null,
      "id": "83ac8279-e488-4406-aad9-b6022d46a0b4",
      "metadata": {
        "id": "83ac8279-e488-4406-aad9-b6022d46a0b4"
      },
      "outputs": [],
      "source": [
        "# Evaluate the model on the validation dataset\n",
        "# - The evaluate function returns (val_loss, predictions, true_vals)\n",
        "# - We use underscore (_) to ignore the validation loss since we don't need it here\n",
        "_, predictions, true_vals = evaluate(dataloader_validation)"
      ]
    },
    {
      "cell_type": "code",
      "execution_count": null,
      "id": "3823a18a-587d-408b-88bb-57b7f96e04a8",
      "metadata": {
        "id": "3823a18a-587d-408b-88bb-57b7f96e04a8"
      },
      "outputs": [],
      "source": [
        "# Calculate and print the accuracy for each individual class\n",
        "# This gives a detailed breakdown of model performance across different classes\n",
        "# Particularly important for imbalanced datasets where overall accuracy might be misleading\n",
        "accuracy_per_class(predictions, true_vals)"
      ]
    },
    {
      "cell_type": "code",
      "execution_count": null,
      "id": "3dfa0c0d",
      "metadata": {
        "id": "3dfa0c0d"
      },
      "outputs": [],
      "source": []
    },
    {
      "cell_type": "code",
      "execution_count": null,
      "id": "3b38e195",
      "metadata": {
        "id": "3b38e195"
      },
      "outputs": [],
      "source": []
    },
    {
      "cell_type": "code",
      "execution_count": null,
      "id": "ef43e33e",
      "metadata": {
        "id": "ef43e33e"
      },
      "outputs": [],
      "source": []
    }
  ],
  "metadata": {
    "kernelspec": {
      "display_name": "Python (NLP)",
      "language": "python",
      "name": "nlp"
    },
    "language_info": {
      "codemirror_mode": {
        "name": "ipython",
        "version": 3
      },
      "file_extension": ".py",
      "mimetype": "text/x-python",
      "name": "python",
      "nbconvert_exporter": "python",
      "pygments_lexer": "ipython3",
      "version": "3.10.16"
    },
    "colab": {
      "provenance": []
    }
  },
  "nbformat": 4,
  "nbformat_minor": 5
}